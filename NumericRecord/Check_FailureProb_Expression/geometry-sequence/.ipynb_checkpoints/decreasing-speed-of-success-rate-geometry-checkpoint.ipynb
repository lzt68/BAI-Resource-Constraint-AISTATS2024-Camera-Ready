{
 "cells": [
  {
   "cell_type": "markdown",
   "id": "69c151da",
   "metadata": {
    "heading_collapsed": true,
    "papermill": {
     "duration": 0.005102,
     "end_time": "2023-01-04T06:26:21.481893",
     "exception": false,
     "start_time": "2023-01-04T06:26:21.476791",
     "status": "completed"
    },
    "tags": []
   },
   "source": [
    "# Uncorrelated Stochastic"
   ]
  },
  {
   "cell_type": "code",
   "execution_count": 1,
   "id": "1306ea97",
   "metadata": {
    "code_folding": [
     0
    ],
    "collapsed": true,
    "execution": {
     "iopub.execute_input": "2023-01-04T06:26:21.493468Z",
     "iopub.status.busy": "2023-01-04T06:26:21.492080Z",
     "iopub.status.idle": "2023-01-04T07:22:09.858541Z",
     "shell.execute_reply": "2023-01-04T07:22:09.856245Z"
    },
    "hidden": true,
    "papermill": {
     "duration": 3348.375861,
     "end_time": "2023-01-04T07:22:09.861857",
     "exception": false,
     "start_time": "2023-01-04T06:26:21.485996",
     "status": "completed"
    },
    "tags": []
   },
   "outputs": [
    {
     "name": "stderr",
     "output_type": "stream",
     "text": [
      "100%|██████████| 10000000/10000000 [00:38<00:00, 261219.96it/s]\n",
      "100%|██████████| 10000000/10000000 [00:38<00:00, 258771.17it/s]\n"
     ]
    },
    {
     "name": "stdout",
     "output_type": "stream",
     "text": [
      "d=0.1 done\n"
     ]
    },
    {
     "name": "stderr",
     "output_type": "stream",
     "text": [
      "100%|██████████| 10000000/10000000 [00:38<00:00, 257874.75it/s]\n",
      "100%|██████████| 10000000/10000000 [00:38<00:00, 260481.35it/s]\n"
     ]
    },
    {
     "name": "stdout",
     "output_type": "stream",
     "text": [
      "d=0.08886238162743403 done\n"
     ]
    },
    {
     "name": "stderr",
     "output_type": "stream",
     "text": [
      "100%|██████████| 10000000/10000000 [00:39<00:00, 255499.18it/s]\n",
      "100%|██████████| 10000000/10000000 [00:38<00:00, 257663.15it/s]\n"
     ]
    },
    {
     "name": "stdout",
     "output_type": "stream",
     "text": [
      "d=0.07896522868499725 done\n"
     ]
    },
    {
     "name": "stderr",
     "output_type": "stream",
     "text": [
      "100%|██████████| 10000000/10000000 [00:38<00:00, 259337.84it/s]\n",
      "100%|██████████| 10000000/10000000 [00:38<00:00, 256661.50it/s]\n"
     ]
    },
    {
     "name": "stdout",
     "output_type": "stream",
     "text": [
      "d=0.07017038286703829 done\n"
     ]
    },
    {
     "name": "stderr",
     "output_type": "stream",
     "text": [
      "100%|██████████| 10000000/10000000 [00:39<00:00, 256301.22it/s]\n",
      "100%|██████████| 10000000/10000000 [00:38<00:00, 259366.13it/s]\n"
     ]
    },
    {
     "name": "stdout",
     "output_type": "stream",
     "text": [
      "d=0.06235507341273915 done\n"
     ]
    },
    {
     "name": "stderr",
     "output_type": "stream",
     "text": [
      "100%|██████████| 10000000/10000000 [00:39<00:00, 255687.83it/s]\n",
      "100%|██████████| 10000000/10000000 [00:38<00:00, 259668.07it/s]\n"
     ]
    },
    {
     "name": "stdout",
     "output_type": "stream",
     "text": [
      "d=0.05541020330009492 done\n"
     ]
    },
    {
     "name": "stderr",
     "output_type": "stream",
     "text": [
      "100%|██████████| 10000000/10000000 [00:39<00:00, 254979.81it/s]\n",
      "100%|██████████| 10000000/10000000 [00:39<00:00, 256272.76it/s]\n"
     ]
    },
    {
     "name": "stdout",
     "output_type": "stream",
     "text": [
      "d=0.04923882631706739 done\n"
     ]
    },
    {
     "name": "stderr",
     "output_type": "stream",
     "text": [
      "100%|██████████| 10000000/10000000 [00:38<00:00, 258910.04it/s]\n",
      "100%|██████████| 10000000/10000000 [00:38<00:00, 258922.14it/s]\n"
     ]
    },
    {
     "name": "stdout",
     "output_type": "stream",
     "text": [
      "d=0.043754793750741844 done\n"
     ]
    },
    {
     "name": "stderr",
     "output_type": "stream",
     "text": [
      "100%|██████████| 10000000/10000000 [00:38<00:00, 257005.64it/s]\n",
      "100%|██████████| 10000000/10000000 [00:38<00:00, 258122.19it/s]\n"
     ]
    },
    {
     "name": "stdout",
     "output_type": "stream",
     "text": [
      "d=0.038881551803080894 done\n"
     ]
    },
    {
     "name": "stderr",
     "output_type": "stream",
     "text": [
      "100%|██████████| 10000000/10000000 [00:39<00:00, 255765.68it/s]\n",
      "100%|██████████| 10000000/10000000 [00:38<00:00, 259222.34it/s]\n"
     ]
    },
    {
     "name": "stdout",
     "output_type": "stream",
     "text": [
      "d=0.0345510729459222 done\n"
     ]
    },
    {
     "name": "stderr",
     "output_type": "stream",
     "text": [
      "100%|██████████| 10000000/10000000 [00:38<00:00, 257221.46it/s]\n",
      "100%|██████████| 10000000/10000000 [00:38<00:00, 259461.94it/s]\n"
     ]
    },
    {
     "name": "stdout",
     "output_type": "stream",
     "text": [
      "d=0.0307029062975785 done\n"
     ]
    },
    {
     "name": "stderr",
     "output_type": "stream",
     "text": [
      "100%|██████████| 10000000/10000000 [00:38<00:00, 259681.07it/s]\n",
      "100%|██████████| 10000000/10000000 [00:38<00:00, 260471.20it/s]\n"
     ]
    },
    {
     "name": "stdout",
     "output_type": "stream",
     "text": [
      "d=0.02728333376486768 done\n"
     ]
    },
    {
     "name": "stderr",
     "output_type": "stream",
     "text": [
      "100%|██████████| 10000000/10000000 [00:38<00:00, 258899.83it/s]\n",
      "100%|██████████| 10000000/10000000 [00:38<00:00, 259216.09it/s]\n"
     ]
    },
    {
     "name": "stdout",
     "output_type": "stream",
     "text": [
      "d=0.024244620170823284 done\n"
     ]
    },
    {
     "name": "stderr",
     "output_type": "stream",
     "text": [
      "100%|██████████| 10000000/10000000 [00:38<00:00, 259606.65it/s]\n",
      "100%|██████████| 10000000/10000000 [00:38<00:00, 258075.74it/s]\n"
     ]
    },
    {
     "name": "stdout",
     "output_type": "stream",
     "text": [
      "d=0.021544346900318846 done\n"
     ]
    },
    {
     "name": "stderr",
     "output_type": "stream",
     "text": [
      "100%|██████████| 10000000/10000000 [00:38<00:00, 259215.65it/s]\n",
      "100%|██████████| 10000000/10000000 [00:38<00:00, 259564.45it/s]\n"
     ]
    },
    {
     "name": "stdout",
     "output_type": "stream",
     "text": [
      "d=0.019144819761699575 done\n"
     ]
    },
    {
     "name": "stderr",
     "output_type": "stream",
     "text": [
      "100%|██████████| 10000000/10000000 [00:38<00:00, 258579.04it/s]\n",
      "100%|██████████| 10000000/10000000 [00:38<00:00, 258537.64it/s]\n"
     ]
    },
    {
     "name": "stdout",
     "output_type": "stream",
     "text": [
      "d=0.017012542798525893 done\n"
     ]
    },
    {
     "name": "stderr",
     "output_type": "stream",
     "text": [
      "100%|██████████| 10000000/10000000 [00:38<00:00, 259404.12it/s]\n",
      "100%|██████████| 10000000/10000000 [00:38<00:00, 257993.21it/s]\n"
     ]
    },
    {
     "name": "stdout",
     "output_type": "stream",
     "text": [
      "d=0.015117750706156624 done\n"
     ]
    },
    {
     "name": "stderr",
     "output_type": "stream",
     "text": [
      "100%|██████████| 10000000/10000000 [00:38<00:00, 257958.07it/s]\n",
      "100%|██████████| 10000000/10000000 [00:38<00:00, 259209.01it/s]\n"
     ]
    },
    {
     "name": "stdout",
     "output_type": "stream",
     "text": [
      "d=0.013433993325989001 done\n"
     ]
    },
    {
     "name": "stderr",
     "output_type": "stream",
     "text": [
      "100%|██████████| 10000000/10000000 [00:38<00:00, 259659.82it/s]\n",
      "100%|██████████| 10000000/10000000 [00:38<00:00, 260421.63it/s]\n"
     ]
    },
    {
     "name": "stdout",
     "output_type": "stream",
     "text": [
      "d=0.01193776641714437 done\n"
     ]
    },
    {
     "name": "stderr",
     "output_type": "stream",
     "text": [
      "100%|██████████| 10000000/10000000 [00:38<00:00, 258631.32it/s]\n",
      "100%|██████████| 10000000/10000000 [00:38<00:00, 258314.84it/s]\n"
     ]
    },
    {
     "name": "stdout",
     "output_type": "stream",
     "text": [
      "d=0.010608183551394482 done\n"
     ]
    },
    {
     "name": "stderr",
     "output_type": "stream",
     "text": [
      "100%|██████████| 10000000/10000000 [00:38<00:00, 257529.02it/s]\n",
      "100%|██████████| 10000000/10000000 [00:38<00:00, 261363.16it/s]\n"
     ]
    },
    {
     "name": "stdout",
     "output_type": "stream",
     "text": [
      "d=0.009426684551178854 done\n"
     ]
    },
    {
     "name": "stderr",
     "output_type": "stream",
     "text": [
      "100%|██████████| 10000000/10000000 [00:38<00:00, 258496.85it/s]\n",
      "100%|██████████| 10000000/10000000 [00:38<00:00, 259740.87it/s]\n"
     ]
    },
    {
     "name": "stdout",
     "output_type": "stream",
     "text": [
      "d=0.008376776400682925 done\n"
     ]
    },
    {
     "name": "stderr",
     "output_type": "stream",
     "text": [
      "100%|██████████| 10000000/10000000 [00:38<00:00, 258609.04it/s]\n",
      "100%|██████████| 10000000/10000000 [00:38<00:00, 259721.78it/s]\n"
     ]
    },
    {
     "name": "stdout",
     "output_type": "stream",
     "text": [
      "d=0.0074438030132516885 done\n"
     ]
    },
    {
     "name": "stderr",
     "output_type": "stream",
     "text": [
      "100%|██████████| 10000000/10000000 [00:38<00:00, 258445.95it/s]\n",
      "100%|██████████| 10000000/10000000 [00:38<00:00, 260319.03it/s]\n"
     ]
    },
    {
     "name": "stdout",
     "output_type": "stream",
     "text": [
      "d=0.006614740641230145 done\n"
     ]
    },
    {
     "name": "stderr",
     "output_type": "stream",
     "text": [
      "100%|██████████| 10000000/10000000 [00:39<00:00, 255858.35it/s]\n",
      "100%|██████████| 10000000/10000000 [00:38<00:00, 259857.46it/s]\n"
     ]
    },
    {
     "name": "stdout",
     "output_type": "stream",
     "text": [
      "d=0.0058780160722749115 done\n"
     ]
    },
    {
     "name": "stderr",
     "output_type": "stream",
     "text": [
      "100%|██████████| 10000000/10000000 [00:38<00:00, 257966.24it/s]\n",
      "100%|██████████| 10000000/10000000 [00:38<00:00, 262207.14it/s]\n"
     ]
    },
    {
     "name": "stdout",
     "output_type": "stream",
     "text": [
      "d=0.0052233450742668434 done\n"
     ]
    },
    {
     "name": "stderr",
     "output_type": "stream",
     "text": [
      "100%|██████████| 10000000/10000000 [00:38<00:00, 260178.96it/s]\n",
      "100%|██████████| 10000000/10000000 [00:38<00:00, 260705.63it/s]\n"
     ]
    },
    {
     "name": "stdout",
     "output_type": "stream",
     "text": [
      "d=0.004641588833612782 done\n"
     ]
    },
    {
     "name": "stderr",
     "output_type": "stream",
     "text": [
      "100%|██████████| 10000000/10000000 [00:38<00:00, 258866.50it/s]\n",
      "100%|██████████| 10000000/10000000 [00:38<00:00, 259654.08it/s]\n"
     ]
    },
    {
     "name": "stdout",
     "output_type": "stream",
     "text": [
      "d=0.004124626382901352 done\n"
     ]
    },
    {
     "name": "stderr",
     "output_type": "stream",
     "text": [
      "100%|██████████| 10000000/10000000 [00:38<00:00, 259449.94it/s]\n",
      "100%|██████████| 10000000/10000000 [00:38<00:00, 260268.13it/s]\n"
     ]
    },
    {
     "name": "stdout",
     "output_type": "stream",
     "text": [
      "d=0.003665241237079626 done\n"
     ]
    },
    {
     "name": "stderr",
     "output_type": "stream",
     "text": [
      "100%|██████████| 10000000/10000000 [00:38<00:00, 256996.16it/s]\n",
      "100%|██████████| 10000000/10000000 [00:38<00:00, 258647.42it/s]\n"
     ]
    },
    {
     "name": "stdout",
     "output_type": "stream",
     "text": [
      "d=0.0032570206556597828 done\n"
     ]
    },
    {
     "name": "stderr",
     "output_type": "stream",
     "text": [
      "100%|██████████| 10000000/10000000 [00:38<00:00, 257319.74it/s]\n",
      "100%|██████████| 10000000/10000000 [00:38<00:00, 259512.75it/s]\n"
     ]
    },
    {
     "name": "stdout",
     "output_type": "stream",
     "text": [
      "d=0.0028942661247167516 done\n"
     ]
    },
    {
     "name": "stderr",
     "output_type": "stream",
     "text": [
      "100%|██████████| 10000000/10000000 [00:38<00:00, 257446.44it/s]\n",
      "100%|██████████| 10000000/10000000 [00:38<00:00, 256483.61it/s]\n"
     ]
    },
    {
     "name": "stdout",
     "output_type": "stream",
     "text": [
      "d=0.002571913809059347 done\n"
     ]
    },
    {
     "name": "stderr",
     "output_type": "stream",
     "text": [
      "100%|██████████| 10000000/10000000 [00:38<00:00, 258636.31it/s]\n",
      "100%|██████████| 10000000/10000000 [00:38<00:00, 257969.87it/s]\n"
     ]
    },
    {
     "name": "stdout",
     "output_type": "stream",
     "text": [
      "d=0.0022854638641349907 done\n"
     ]
    },
    {
     "name": "stderr",
     "output_type": "stream",
     "text": [
      "100%|██████████| 10000000/10000000 [00:39<00:00, 254172.69it/s]\n",
      "100%|██████████| 10000000/10000000 [00:39<00:00, 253259.99it/s]\n"
     ]
    },
    {
     "name": "stdout",
     "output_type": "stream",
     "text": [
      "d=0.002030917620904735 done\n"
     ]
    },
    {
     "name": "stderr",
     "output_type": "stream",
     "text": [
      "100%|██████████| 10000000/10000000 [00:39<00:00, 252603.09it/s]\n",
      "100%|██████████| 10000000/10000000 [00:39<00:00, 254683.03it/s]\n"
     ]
    },
    {
     "name": "stdout",
     "output_type": "stream",
     "text": [
      "d=0.0018047217668271701 done\n"
     ]
    },
    {
     "name": "stderr",
     "output_type": "stream",
     "text": [
      "100%|██████████| 10000000/10000000 [00:39<00:00, 250885.16it/s]\n",
      "100%|██████████| 10000000/10000000 [00:38<00:00, 258743.59it/s]\n"
     ]
    },
    {
     "name": "stdout",
     "output_type": "stream",
     "text": [
      "d=0.001603718743751331 done\n"
     ]
    },
    {
     "name": "stderr",
     "output_type": "stream",
     "text": [
      "100%|██████████| 10000000/10000000 [00:38<00:00, 259539.40it/s]\n",
      "100%|██████████| 10000000/10000000 [00:39<00:00, 255659.03it/s]\n"
     ]
    },
    {
     "name": "stdout",
     "output_type": "stream",
     "text": [
      "d=0.0014251026703029992 done\n"
     ]
    },
    {
     "name": "stderr",
     "output_type": "stream",
     "text": [
      "100%|██████████| 10000000/10000000 [00:38<00:00, 258168.84it/s]\n",
      "100%|██████████| 10000000/10000000 [00:38<00:00, 257683.43it/s]\n"
     ]
    },
    {
     "name": "stdout",
     "output_type": "stream",
     "text": [
      "d=0.0012663801734674035 done\n"
     ]
    },
    {
     "name": "stderr",
     "output_type": "stream",
     "text": [
      "100%|██████████| 10000000/10000000 [00:38<00:00, 256762.31it/s]\n",
      "100%|██████████| 10000000/10000000 [00:38<00:00, 258735.49it/s]\n"
     ]
    },
    {
     "name": "stdout",
     "output_type": "stream",
     "text": [
      "d=0.0011253355826007646 done\n"
     ]
    },
    {
     "name": "stderr",
     "output_type": "stream",
     "text": [
      "100%|██████████| 10000000/10000000 [00:38<00:00, 257323.28it/s]\n",
      "100%|██████████| 10000000/10000000 [00:39<00:00, 255788.37it/s]\n"
     ]
    },
    {
     "name": "stdout",
     "output_type": "stream",
     "text": [
      "d=0.001 done\n",
      "[0.6413452 0.6576471 0.6739118 0.6899939 0.7065553 0.7227861 0.7388264\n",
      " 0.7549344 0.7705931 0.7867327 0.8020729 0.8169305 0.8316305 0.8457291\n",
      " 0.859231  0.8722734 0.8845045 0.8961572 0.9070524 0.9173606 0.9265477\n",
      " 0.9351849 0.9430612 0.9503144 0.956723  0.9625361 0.9678167 0.9722996\n",
      " 0.9764211 0.9799552 0.98304   0.9857612 0.9880817 0.990089  0.9917671\n",
      " 0.9931763 0.994355  0.9953551 0.9961973 0.9969284]\n"
     ]
    }
   ],
   "source": [
    "# numeric experiment\n",
    "import numpy as np\n",
    "from tqdm import tqdm\n",
    "\n",
    "def Experiment_SequentialPulling(C, d1, d2, r1, r2, random_seed, n_experiment):\n",
    "    np.random.seed(random_seed)\n",
    "    # the interval between neighbour consumption\n",
    "    interval_consumption_1 = np.random.geometric(d1, size=(n_experiment, C))\n",
    "    interval_consumption_2 = np.random.geometric(d2, size=(n_experiment, C))\n",
    "\n",
    "    # at which round the demand is 1\n",
    "    round_consumption_1 = np.cumsum(interval_consumption_1, axis=1)\n",
    "    round_consumption_2 = np.cumsum(interval_consumption_2, axis=1)\n",
    "\n",
    "    count_arm_1 = np.zeros(shape=n_experiment, dtype=int)\n",
    "    count_arm_2 = np.zeros(shape=n_experiment, dtype=int)\n",
    "    for c_count in range(1, C + 1):\n",
    "        arm_index = (\n",
    "            round_consumption_1[np.arange(0, n_experiment), count_arm_1]\n",
    "            <= round_consumption_2[np.arange(0, n_experiment), count_arm_2]\n",
    "        )\n",
    "        count_arm_1[arm_index] = count_arm_1[arm_index] + 1\n",
    "        count_arm_2[~arm_index] = count_arm_2[~arm_index] + 1\n",
    "    stopping_time = np.maximum(\n",
    "        round_consumption_1[np.arange(0, n_experiment), count_arm_1 - 1],\n",
    "        round_consumption_2[np.arange(0, n_experiment), count_arm_2 - 1],\n",
    "    )\n",
    "    assert np.min(round_consumption_1) > 0, \"numeric error\"\n",
    "    assert np.min(round_consumption_2) > 0, \"numeric error\"\n",
    "    assert np.min(stopping_time) > 0, \"numeric error\"\n",
    "\n",
    "    arm_1_total_reward = np.array([np.random.binomial(T, r1) for T in tqdm(stopping_time)])\n",
    "    arm_2_total_reward = np.array([np.random.binomial(T, r2) for T in tqdm(stopping_time)])\n",
    "    \n",
    "    if r1 > r2:\n",
    "        success_rate = np.sum(arm_1_total_reward > arm_2_total_reward) / n_experiment\n",
    "    else:\n",
    "        success_rate = np.sum(arm_1_total_reward < arm_2_total_reward) / n_experiment\n",
    "    \n",
    "    return success_rate, count_arm_1, count_arm_2\n",
    "\n",
    "# d_list = np.array([1e-3, 5e-4, 1e-4, 5e-5, 1e-5, 5e-6, 1e-6, 5e-7])\n",
    "d_list = np.geomspace(start=1e-1, stop=1e-3, num=40)\n",
    "n_experiment = 10000000\n",
    "random_seed = 12345\n",
    "success_list = np.zeros(len(d_list))\n",
    "for ii, d in enumerate(d_list):\n",
    "    r1 = 0.5\n",
    "    r2 = 0.4\n",
    "    d1 = d\n",
    "    d2 = d\n",
    "    C = 2\n",
    "    success_rate, _, _ = Experiment_SequentialPulling(C, d1, d2, r1, r2, random_seed, n_experiment)\n",
    "    print(f\"d={d} done\")\n",
    "    success_list[ii] = success_rate\n",
    "    \n",
    "print(success_list)"
   ]
  },
  {
   "cell_type": "code",
   "execution_count": 2,
   "id": "07948293",
   "metadata": {
    "execution": {
     "iopub.execute_input": "2023-01-04T07:22:14.300084Z",
     "iopub.status.busy": "2023-01-04T07:22:14.299576Z",
     "iopub.status.idle": "2023-01-04T07:22:14.306444Z",
     "shell.execute_reply": "2023-01-04T07:22:14.305122Z"
    },
    "hidden": true,
    "papermill": {
     "duration": 2.231103,
     "end_time": "2023-01-04T07:22:14.309208",
     "exception": false,
     "start_time": "2023-01-04T07:22:12.078105",
     "status": "completed"
    },
    "tags": []
   },
   "outputs": [],
   "source": [
    "np.save(\"./fail-d-d_list.npy\", d_list)\n",
    "np.save(\"./fail-d-success.npy\", success_list)"
   ]
  },
  {
   "cell_type": "code",
   "execution_count": 3,
   "id": "99ecf4cf",
   "metadata": {
    "execution": {
     "iopub.execute_input": "2023-01-04T07:22:18.553128Z",
     "iopub.status.busy": "2023-01-04T07:22:18.552362Z",
     "iopub.status.idle": "2023-01-04T07:22:19.009668Z",
     "shell.execute_reply": "2023-01-04T07:22:19.008363Z"
    },
    "hidden": true,
    "papermill": {
     "duration": 2.607273,
     "end_time": "2023-01-04T07:22:19.012794",
     "exception": false,
     "start_time": "2023-01-04T07:22:16.405521",
     "status": "completed"
    },
    "tags": []
   },
   "outputs": [
    {
     "data": {
      "image/png": "[encoded data removed]",
      "text/plain": [
       "<Figure size 432x288 with 1 Axes>"
      ]
     },
     "metadata": {
      "needs_background": "light"
     },
     "output_type": "display_data"
    }
   ],
   "source": [
    "import matplotlib.pyplot as plt\n",
    "\n",
    "# d_list = np.load(\"./Numeric-Record/Check_FailureProb_Expression/fail-d-d_list.npy\")\n",
    "# success_list = np.load(\"./Numeric-Record/Check_FailureProb_Expression/fail-d-success.npy\")\n",
    "\n",
    "index = 1-success_list >= 1e-6\n",
    "d_list = d_list[index]\n",
    "success_list = success_list[index]\n",
    "\n",
    "plt.figure()\n",
    "plt.plot(np.log(d_list), np.log(1-success_list), \"-*\")\n",
    "plt.xlabel(r\"$\\log d$\")\n",
    "plt.ylabel(r\"$\\log \\mathbb{P}(failure)$\")\n",
    "plt.show()"
   ]
  },
  {
   "cell_type": "markdown",
   "id": "42535584",
   "metadata": {
    "heading_collapsed": true,
    "papermill": {
     "duration": 1.984489,
     "end_time": "2023-01-04T07:22:23.150193",
     "exception": false,
     "start_time": "2023-01-04T07:22:21.165704",
     "status": "completed"
    },
    "tags": []
   },
   "source": [
    "# Deterministic Consumption"
   ]
  },
  {
   "cell_type": "code",
   "execution_count": 4,
   "id": "a8c89d81",
   "metadata": {
    "execution": {
     "iopub.execute_input": "2023-01-04T07:22:27.361787Z",
     "iopub.status.busy": "2023-01-04T07:22:27.361359Z",
     "iopub.status.idle": "2023-01-04T07:23:58.404245Z",
     "shell.execute_reply": "2023-01-04T07:23:58.402697Z"
    },
    "hidden": true,
    "papermill": {
     "duration": 93.172031,
     "end_time": "2023-01-04T07:23:58.407437",
     "exception": false,
     "start_time": "2023-01-04T07:22:25.235406",
     "status": "completed"
    },
    "tags": []
   },
   "outputs": [
    {
     "name": "stderr",
     "output_type": "stream",
     "text": [
      "100%|██████████| 1001/1001 [00:01<00:00, 761.80it/s]\n"
     ]
    },
    {
     "name": "stdout",
     "output_type": "stream",
     "text": [
      "d=0.1 done\n"
     ]
    },
    {
     "name": "stderr",
     "output_type": "stream",
     "text": [
      "100%|██████████| 1001/1001 [00:01<00:00, 701.73it/s]\n"
     ]
    },
    {
     "name": "stdout",
     "output_type": "stream",
     "text": [
      "d=0.08886238162743403 done\n"
     ]
    },
    {
     "name": "stderr",
     "output_type": "stream",
     "text": [
      "100%|██████████| 1001/1001 [00:01<00:00, 675.81it/s]\n"
     ]
    },
    {
     "name": "stdout",
     "output_type": "stream",
     "text": [
      "d=0.07896522868499725 done\n"
     ]
    },
    {
     "name": "stderr",
     "output_type": "stream",
     "text": [
      "100%|██████████| 1001/1001 [00:01<00:00, 614.52it/s]\n"
     ]
    },
    {
     "name": "stdout",
     "output_type": "stream",
     "text": [
      "d=0.07017038286703829 done\n"
     ]
    },
    {
     "name": "stderr",
     "output_type": "stream",
     "text": [
      "100%|██████████| 1001/1001 [00:01<00:00, 564.46it/s]\n"
     ]
    },
    {
     "name": "stdout",
     "output_type": "stream",
     "text": [
      "d=0.06235507341273915 done\n"
     ]
    },
    {
     "name": "stderr",
     "output_type": "stream",
     "text": [
      "100%|██████████| 1001/1001 [00:01<00:00, 525.68it/s]\n"
     ]
    },
    {
     "name": "stdout",
     "output_type": "stream",
     "text": [
      "d=0.05541020330009492 done\n"
     ]
    },
    {
     "name": "stderr",
     "output_type": "stream",
     "text": [
      "100%|██████████| 1001/1001 [00:02<00:00, 486.57it/s]\n"
     ]
    },
    {
     "name": "stdout",
     "output_type": "stream",
     "text": [
      "d=0.04923882631706739 done\n"
     ]
    },
    {
     "name": "stderr",
     "output_type": "stream",
     "text": [
      "100%|██████████| 1001/1001 [00:02<00:00, 451.27it/s]\n"
     ]
    },
    {
     "name": "stdout",
     "output_type": "stream",
     "text": [
      "d=0.043754793750741844 done\n"
     ]
    },
    {
     "name": "stderr",
     "output_type": "stream",
     "text": [
      "100%|██████████| 1001/1001 [00:02<00:00, 414.67it/s]\n"
     ]
    },
    {
     "name": "stdout",
     "output_type": "stream",
     "text": [
      "d=0.038881551803080894 done\n"
     ]
    },
    {
     "name": "stderr",
     "output_type": "stream",
     "text": [
      "100%|██████████| 1001/1001 [00:02<00:00, 380.09it/s]\n"
     ]
    },
    {
     "name": "stdout",
     "output_type": "stream",
     "text": [
      "d=0.0345510729459222 done\n"
     ]
    },
    {
     "name": "stderr",
     "output_type": "stream",
     "text": [
      "100%|██████████| 1001/1001 [00:02<00:00, 345.12it/s]\n"
     ]
    },
    {
     "name": "stdout",
     "output_type": "stream",
     "text": [
      "d=0.0307029062975785 done\n"
     ]
    },
    {
     "name": "stderr",
     "output_type": "stream",
     "text": [
      "100%|██████████| 1001/1001 [00:03<00:00, 312.09it/s]\n"
     ]
    },
    {
     "name": "stdout",
     "output_type": "stream",
     "text": [
      "d=0.02728333376486768 done\n"
     ]
    },
    {
     "name": "stderr",
     "output_type": "stream",
     "text": [
      "100%|██████████| 1001/1001 [00:03<00:00, 282.47it/s]\n"
     ]
    },
    {
     "name": "stdout",
     "output_type": "stream",
     "text": [
      "d=0.024244620170823284 done\n"
     ]
    },
    {
     "name": "stderr",
     "output_type": "stream",
     "text": [
      "100%|██████████| 1001/1001 [00:03<00:00, 259.72it/s]\n"
     ]
    },
    {
     "name": "stdout",
     "output_type": "stream",
     "text": [
      "d=0.021544346900318846 done\n"
     ]
    },
    {
     "name": "stderr",
     "output_type": "stream",
     "text": [
      "100%|██████████| 1001/1001 [00:04<00:00, 233.41it/s]\n"
     ]
    },
    {
     "name": "stdout",
     "output_type": "stream",
     "text": [
      "d=0.019144819761699575 done\n"
     ]
    },
    {
     "name": "stderr",
     "output_type": "stream",
     "text": [
      "100%|██████████| 1001/1001 [00:04<00:00, 214.89it/s]\n"
     ]
    },
    {
     "name": "stdout",
     "output_type": "stream",
     "text": [
      "d=0.017012542798525893 done\n"
     ]
    },
    {
     "name": "stderr",
     "output_type": "stream",
     "text": [
      "100%|██████████| 1001/1001 [00:03<00:00, 282.38it/s]\n"
     ]
    },
    {
     "name": "stdout",
     "output_type": "stream",
     "text": [
      "d=0.015117750706156624 done\n"
     ]
    },
    {
     "name": "stderr",
     "output_type": "stream",
     "text": [
      "100%|██████████| 1001/1001 [00:03<00:00, 261.62it/s]\n"
     ]
    },
    {
     "name": "stdout",
     "output_type": "stream",
     "text": [
      "d=0.013433993325989001 done\n"
     ]
    },
    {
     "name": "stderr",
     "output_type": "stream",
     "text": [
      "100%|██████████| 1001/1001 [00:02<00:00, 420.40it/s]\n"
     ]
    },
    {
     "name": "stdout",
     "output_type": "stream",
     "text": [
      "d=0.01193776641714437 done\n"
     ]
    },
    {
     "name": "stderr",
     "output_type": "stream",
     "text": [
      "100%|██████████| 1001/1001 [00:02<00:00, 431.26it/s]\n"
     ]
    },
    {
     "name": "stdout",
     "output_type": "stream",
     "text": [
      "d=0.010608183551394482 done\n"
     ]
    },
    {
     "name": "stderr",
     "output_type": "stream",
     "text": [
      "100%|██████████| 1001/1001 [00:02<00:00, 456.24it/s]\n"
     ]
    },
    {
     "name": "stdout",
     "output_type": "stream",
     "text": [
      "d=0.009426684551178854 done\n"
     ]
    },
    {
     "name": "stderr",
     "output_type": "stream",
     "text": [
      "100%|██████████| 1001/1001 [00:02<00:00, 451.55it/s]\n"
     ]
    },
    {
     "name": "stdout",
     "output_type": "stream",
     "text": [
      "d=0.008376776400682925 done\n"
     ]
    },
    {
     "name": "stderr",
     "output_type": "stream",
     "text": [
      "100%|██████████| 1001/1001 [00:02<00:00, 474.15it/s]\n"
     ]
    },
    {
     "name": "stdout",
     "output_type": "stream",
     "text": [
      "d=0.0074438030132516885 done\n"
     ]
    },
    {
     "name": "stderr",
     "output_type": "stream",
     "text": [
      "100%|██████████| 1001/1001 [00:02<00:00, 484.58it/s]\n"
     ]
    },
    {
     "name": "stdout",
     "output_type": "stream",
     "text": [
      "d=0.006614740641230145 done\n"
     ]
    },
    {
     "name": "stderr",
     "output_type": "stream",
     "text": [
      "100%|██████████| 1001/1001 [00:02<00:00, 488.47it/s]\n"
     ]
    },
    {
     "name": "stdout",
     "output_type": "stream",
     "text": [
      "d=0.0058780160722749115 done\n"
     ]
    },
    {
     "name": "stderr",
     "output_type": "stream",
     "text": [
      "100%|██████████| 1001/1001 [00:01<00:00, 508.41it/s]\n"
     ]
    },
    {
     "name": "stdout",
     "output_type": "stream",
     "text": [
      "d=0.0052233450742668434 done\n"
     ]
    },
    {
     "name": "stderr",
     "output_type": "stream",
     "text": [
      "100%|██████████| 1001/1001 [00:01<00:00, 503.30it/s]\n"
     ]
    },
    {
     "name": "stdout",
     "output_type": "stream",
     "text": [
      "d=0.004641588833612782 done\n"
     ]
    },
    {
     "name": "stderr",
     "output_type": "stream",
     "text": [
      "100%|██████████| 1001/1001 [00:01<00:00, 533.58it/s]\n"
     ]
    },
    {
     "name": "stdout",
     "output_type": "stream",
     "text": [
      "d=0.004124626382901352 done\n"
     ]
    },
    {
     "name": "stderr",
     "output_type": "stream",
     "text": [
      "100%|██████████| 1001/1001 [00:01<00:00, 541.21it/s]\n"
     ]
    },
    {
     "name": "stdout",
     "output_type": "stream",
     "text": [
      "d=0.003665241237079626 done\n"
     ]
    },
    {
     "name": "stderr",
     "output_type": "stream",
     "text": [
      "100%|██████████| 1001/1001 [00:01<00:00, 554.07it/s]\n"
     ]
    },
    {
     "name": "stdout",
     "output_type": "stream",
     "text": [
      "d=0.0032570206556597828 done\n"
     ]
    },
    {
     "name": "stderr",
     "output_type": "stream",
     "text": [
      "100%|██████████| 1001/1001 [00:01<00:00, 564.50it/s]\n"
     ]
    },
    {
     "name": "stdout",
     "output_type": "stream",
     "text": [
      "d=0.0028942661247167516 done\n"
     ]
    },
    {
     "name": "stderr",
     "output_type": "stream",
     "text": [
      "100%|██████████| 1001/1001 [00:01<00:00, 568.72it/s]\n"
     ]
    },
    {
     "name": "stdout",
     "output_type": "stream",
     "text": [
      "d=0.002571913809059347 done\n"
     ]
    },
    {
     "name": "stderr",
     "output_type": "stream",
     "text": [
      "100%|██████████| 1001/1001 [00:01<00:00, 577.48it/s]\n"
     ]
    },
    {
     "name": "stdout",
     "output_type": "stream",
     "text": [
      "d=0.0022854638641349907 done\n"
     ]
    },
    {
     "name": "stderr",
     "output_type": "stream",
     "text": [
      "100%|██████████| 1001/1001 [00:01<00:00, 589.02it/s]\n"
     ]
    },
    {
     "name": "stdout",
     "output_type": "stream",
     "text": [
      "d=0.002030917620904735 done\n"
     ]
    },
    {
     "name": "stderr",
     "output_type": "stream",
     "text": [
      "100%|██████████| 1001/1001 [00:01<00:00, 604.19it/s]\n"
     ]
    },
    {
     "name": "stdout",
     "output_type": "stream",
     "text": [
      "d=0.0018047217668271701 done\n"
     ]
    },
    {
     "name": "stderr",
     "output_type": "stream",
     "text": [
      "100%|██████████| 1001/1001 [00:01<00:00, 602.22it/s]\n"
     ]
    },
    {
     "name": "stdout",
     "output_type": "stream",
     "text": [
      "d=0.001603718743751331 done\n"
     ]
    },
    {
     "name": "stderr",
     "output_type": "stream",
     "text": [
      "100%|██████████| 1001/1001 [00:01<00:00, 636.33it/s]\n"
     ]
    },
    {
     "name": "stdout",
     "output_type": "stream",
     "text": [
      "d=0.0014251026703029992 done\n"
     ]
    },
    {
     "name": "stderr",
     "output_type": "stream",
     "text": [
      "100%|██████████| 1001/1001 [00:01<00:00, 628.76it/s]\n"
     ]
    },
    {
     "name": "stdout",
     "output_type": "stream",
     "text": [
      "d=0.0012663801734674035 done\n"
     ]
    },
    {
     "name": "stderr",
     "output_type": "stream",
     "text": [
      "100%|██████████| 1001/1001 [00:01<00:00, 619.29it/s]\n"
     ]
    },
    {
     "name": "stdout",
     "output_type": "stream",
     "text": [
      "d=0.0011253355826007646 done\n"
     ]
    },
    {
     "name": "stderr",
     "output_type": "stream",
     "text": [
      "100%|██████████| 1001/1001 [00:01<00:00, 634.37it/s]"
     ]
    },
    {
     "name": "stdout",
     "output_type": "stream",
     "text": [
      "d=0.001 done\n",
      "[0.5919946 0.6042671 0.615811  0.6363869 0.6544445 0.6706682 0.6853513\n",
      " 0.6987982 0.7171919 0.7335331 0.7530158 0.7702298 0.7893522 0.8062228\n",
      " 0.8242341 0.8399101 0.8583683 0.8740427 0.8892257 0.9050573 0.9191211\n",
      " 0.9319913 0.9441705 0.9549069 0.9645444 0.9725144 0.9794386 0.9851159\n",
      " 0.9894549 0.9930135 0.9954523 0.9971869 0.9984038 0.9991227 0.9995538\n",
      " 0.9997871 0.9999066 0.9999629 0.9999882 0.9999959]\n"
     ]
    },
    {
     "name": "stderr",
     "output_type": "stream",
     "text": [
      "\n"
     ]
    }
   ],
   "source": [
    "# numeric experiment\n",
    "import numpy as np\n",
    "from tqdm import tqdm\n",
    "\n",
    "def Experiment_Deterministic_consumption(C, d1, d2, r1, r2, random_seed, n_experiment):\n",
    "    np.random.seed(random_seed)\n",
    "\n",
    "    # generate sample path\n",
    "    n = int(np.floor(C / (d1 + d2)))\n",
    "    batch_size = 10000\n",
    "    success_or_not = np.zeros(n_experiment)\n",
    "    for batch_id in tqdm(range(n_experiment // batch_size + 1)):\n",
    "        if batch_id == n_experiment // batch_size:\n",
    "            index = np.arange(batch_id * batch_size, n_experiment)\n",
    "        else:\n",
    "            index = np.arange(batch_id * batch_size, (batch_id+1) * batch_size)\n",
    "                \n",
    "        reward_1 = np.random.binomial(n, r1, size=len(index))\n",
    "        reward_2 = np.random.binomial(n, r2, size=len(index))\n",
    "#         if d1 < 1e-5:\n",
    "#             print(f\"n {n}, reward_1 {reward_1[0:5]}, reward_2 {reward_2[0:5]}\")\n",
    "#             assert False\n",
    "        \n",
    "        if r1 > r2:\n",
    "            success_or_not[index] = reward_1 > reward_2\n",
    "        else:\n",
    "            success_or_not[index] = reward_1 <= reward_2\n",
    "            \n",
    "    return np.mean(success_or_not)\n",
    "\n",
    "# d_list_inverse = np.arange(2500, 17500, 2500)\n",
    "# d_list = 1. / d_list_inverse\n",
    "d_list = np.geomspace(start=1e-1, stop=1e-3, num=40)\n",
    "\n",
    "n_experiment = 10000000\n",
    "random_seed = 12345\n",
    "success_list = np.zeros(len(d_list))\n",
    "for ii, d in enumerate(d_list):\n",
    "    r1 = 0.5\n",
    "    r2 = 0.4\n",
    "    d1 = d\n",
    "    d2 = d\n",
    "    C = 2\n",
    "    success_rate = Experiment_Deterministic_consumption(C, d1, d2, r1, r2, random_seed, n_experiment)\n",
    "    print(f\"d={d} done\")\n",
    "    success_list[ii] = success_rate\n",
    "print(success_list)"
   ]
  },
  {
   "cell_type": "code",
   "execution_count": 5,
   "id": "230c38a8",
   "metadata": {
    "execution": {
     "iopub.execute_input": "2023-01-04T07:24:02.675545Z",
     "iopub.status.busy": "2023-01-04T07:24:02.675107Z",
     "iopub.status.idle": "2023-01-04T07:24:02.681691Z",
     "shell.execute_reply": "2023-01-04T07:24:02.680343Z"
    },
    "hidden": true,
    "papermill": {
     "duration": 2.094419,
     "end_time": "2023-01-04T07:24:02.684311",
     "exception": false,
     "start_time": "2023-01-04T07:24:00.589892",
     "status": "completed"
    },
    "tags": []
   },
   "outputs": [],
   "source": [
    "np.save(\"./fail-d-d_list-deterministic.npy\", d_list)\n",
    "np.save(\"./fail-d-success-deterministic.npy\", success_list)"
   ]
  },
  {
   "cell_type": "code",
   "execution_count": 6,
   "id": "7f1f7074",
   "metadata": {
    "execution": {
     "iopub.execute_input": "2023-01-04T07:24:06.706803Z",
     "iopub.status.busy": "2023-01-04T07:24:06.706414Z",
     "iopub.status.idle": "2023-01-04T07:24:07.031187Z",
     "shell.execute_reply": "2023-01-04T07:24:07.029946Z"
    },
    "hidden": true,
    "papermill": {
     "duration": 2.430455,
     "end_time": "2023-01-04T07:24:07.033947",
     "exception": false,
     "start_time": "2023-01-04T07:24:04.603492",
     "status": "completed"
    },
    "tags": []
   },
   "outputs": [
    {
     "data": {
      "image/png": "[encoded data removed]",
      "text/plain": [
       "<Figure size 432x288 with 1 Axes>"
      ]
     },
     "metadata": {
      "needs_background": "light"
     },
     "output_type": "display_data"
    }
   ],
   "source": [
    "import matplotlib.pyplot as plt\n",
    "import numpy as np\n",
    "\n",
    "plt.figure()\n",
    "\n",
    "# d_list = np.load(\"./Numeric-Record/Check_FailureProb_Expression/fail-d-d_list.npy\")\n",
    "# success_list = np.load(\"./Numeric-Record/Check_FailureProb_Expression/fail-d-success.npy\")\n",
    "# index = 1-success_list >= 1e-6 # sift the available record\n",
    "# d_list = d_list[index]\n",
    "# success_list = success_list[index]\n",
    "# plt.plot(np.log(d_list), np.log(1-success_list), \"-*\", label=\"stochastic-uncorrelated\")\n",
    "\n",
    "# d_list = np.load(\"./Numeric-Record/Check_FailureProb_Expression/fail-d-d_list-deterministic.npy\")\n",
    "# success_list = np.load(\"./Numeric-Record/Check_FailureProb_Expression/fail-d-success-deterministic.npy\")\n",
    "index = 1-success_list >= 1e-6 # sift the available record\n",
    "d_list = d_list[index]\n",
    "success_list = success_list[index]\n",
    "plt.plot(-1/d_list, np.log(1-success_list), \"-*\", label=\"deterministic\")\n",
    "\n",
    "plt.xlabel(r\"$-\\frac{1}{d}$\")\n",
    "plt.ylabel(r\"$\\log \\mathbb{P}(failure)$\")\n",
    "plt.legend()\n",
    "plt.show()"
   ]
  },
  {
   "cell_type": "markdown",
   "id": "2c4c3e4c",
   "metadata": {
    "papermill": {
     "duration": 2.030564,
     "end_time": "2023-01-04T07:24:11.137097",
     "exception": false,
     "start_time": "2023-01-04T07:24:09.106533",
     "status": "completed"
    },
    "tags": []
   },
   "source": [
    "# Plot the figure"
   ]
  },
  {
   "cell_type": "code",
   "execution_count": 1,
   "id": "0adc8df6",
   "metadata": {
    "execution": {
     "iopub.execute_input": "2023-01-04T07:24:15.154551Z",
     "iopub.status.busy": "2023-01-04T07:24:15.153812Z",
     "iopub.status.idle": "2023-01-04T07:24:15.358777Z",
     "shell.execute_reply": "2023-01-04T07:24:15.357807Z"
    },
    "papermill": {
     "duration": 2.191026,
     "end_time": "2023-01-04T07:24:15.361379",
     "exception": false,
     "start_time": "2023-01-04T07:24:13.170353",
     "status": "completed"
    },
    "tags": []
   },
   "outputs": [
    {
     "name": "stderr",
     "output_type": "stream",
     "text": [
      "The PostScript backend does not support transparency; partially transparent artists will be rendered opaque.\n"
     ]
    },
    {
     "data": {
      "image/png": "[encoded data removed]",
      "text/plain": [
       "<Figure size 640x480 with 1 Axes>"
      ]
     },
     "metadata": {},
     "output_type": "display_data"
    }
   ],
   "source": [
    "# plot the result\n",
    "%reset -f\n",
    "import matplotlib\n",
    "import matplotlib.pyplot as plt\n",
    "import numpy as np\n",
    "\n",
    "legend_fontsize = 15\n",
    "label_fontsize = 15\n",
    "axis_fontsize = 12\n",
    "\n",
    "matplotlib.rcParams['pdf.fonttype'] = 42\n",
    "matplotlib.rcParams['ps.fonttype'] = 42\n",
    "\n",
    "plt.figure()\n",
    "\n",
    "d_list = np.load(\"./fail-d-d_list.npy\")\n",
    "success_list = np.load(\"./fail-d-success.npy\")\n",
    "index = 1-success_list >= 0 # sift the available record\n",
    "d_list = d_list[index]\n",
    "success_list = success_list[index]\n",
    "plt.plot(np.log(d_list), np.log(1-success_list), \"-*\", label=\"stochastic-uncorrelated\")\n",
    "\n",
    "d_list = np.load(\"./fail-d-d_list-deterministic.npy\")\n",
    "success_list = np.load(\"./fail-d-success-deterministic.npy\")\n",
    "index = 1-success_list >= 0 # sift the available record\n",
    "d_list = d_list[index]\n",
    "success_list = success_list[index]\n",
    "# plt.plot(-1/d_list, np.log(1-success_list), \"-*\", label=\"deterministic\")\n",
    "plt.plot(np.log(d_list), np.log(1-success_list), \"-*\", label=\"deterministic\")\n",
    "\n",
    "plt.xlabel(r\"$\\log d$\", fontsize=label_fontsize)\n",
    "plt.ylabel(r\"$\\log \\mathbb{P}(failure)$\", fontsize=label_fontsize)\n",
    "\n",
    "plt.xticks(fontsize=axis_fontsize)\n",
    "plt.yticks(fontsize=axis_fontsize)\n",
    "plt.legend(fontsize=legend_fontsize)\n",
    "\n",
    "plt.savefig(\"./validate-formula-geometric_d.eps\", bbox_inches='tight')\n",
    "plt.show()"
   ]
  },
  {
   "cell_type": "code",
   "execution_count": null,
   "id": "ab4d181b",
   "metadata": {
    "papermill": {
     "duration": 2.03519,
     "end_time": "2023-01-04T07:24:19.494750",
     "exception": false,
     "start_time": "2023-01-04T07:24:17.459560",
     "status": "completed"
    },
    "tags": []
   },
   "outputs": [],
   "source": []
  }
 ],
 "metadata": {
  "kernelspec": {
   "display_name": "Python 3 (ipykernel)",
   "language": "python",
   "name": "python3"
  },
  "language_info": {
   "codemirror_mode": {
    "name": "ipython",
    "version": 3
   },
   "file_extension": ".py",
   "mimetype": "text/x-python",
   "name": "python",
   "nbconvert_exporter": "python",
   "pygments_lexer": "ipython3",
   "version": "3.11.3"
  },
  "papermill": {
   "default_parameters": {},
   "duration": 3490.668564,
   "end_time": "2023-01-04T07:24:22.320278",
   "environment_variables": {},
   "exception": null,
   "input_path": "__notebook__.ipynb",
   "output_path": "__notebook__.ipynb",
   "parameters": {},
   "start_time": "2023-01-04T06:26:11.651714",
   "version": "2.3.4"
  },
  "varInspector": {
   "cols": {
    "lenName": 16,
    "lenType": 16,
    "lenVar": 40
   },
   "kernels_config": {
    "python": {
     "delete_cmd_postfix": "",
     "delete_cmd_prefix": "del ",
     "library": "var_list.py",
     "varRefreshCmd": "print(var_dic_list())"
    },
    "r": {
     "delete_cmd_postfix": ") ",
     "delete_cmd_prefix": "rm(",
     "library": "var_list.r",
     "varRefreshCmd": "cat(var_dic_list()) "
    }
   },
   "types_to_exclude": [
    "module",
    "function",
    "builtin_function_or_method",
    "instance",
    "_Feature"
   ],
   "window_display": false
  }
 },
 "nbformat": 4,
 "nbformat_minor": 5
}
