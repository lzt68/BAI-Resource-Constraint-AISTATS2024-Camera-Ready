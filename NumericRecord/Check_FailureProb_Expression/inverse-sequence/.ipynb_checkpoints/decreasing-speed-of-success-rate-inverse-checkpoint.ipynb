{
 "cells": [
  {
   "cell_type": "markdown",
   "id": "692f9e69",
   "metadata": {
    "heading_collapsed": true,
    "papermill": {
     "duration": 0.00459,
     "end_time": "2023-01-04T08:31:01.899425",
     "exception": false,
     "start_time": "2023-01-04T08:31:01.894835",
     "status": "completed"
    },
    "tags": []
   },
   "source": [
    "# Uncorrelated Stochastic"
   ]
  },
  {
   "cell_type": "code",
   "execution_count": 1,
   "id": "8804af62",
   "metadata": {
    "code_folding": [
     0
    ],
    "collapsed": true,
    "execution": {
     "iopub.execute_input": "2023-01-04T08:31:01.909917Z",
     "iopub.status.busy": "2023-01-04T08:31:01.909279Z",
     "iopub.status.idle": "2023-01-04T09:26:10.831905Z",
     "shell.execute_reply": "2023-01-04T09:26:10.831045Z"
    },
    "hidden": true,
    "papermill": {
     "duration": 3308.931319,
     "end_time": "2023-01-04T09:26:10.834489",
     "exception": false,
     "start_time": "2023-01-04T08:31:01.903170",
     "status": "completed"
    },
    "tags": []
   },
   "outputs": [
    {
     "name": "stderr",
     "output_type": "stream",
     "text": [
      "100%|██████████| 10000000/10000000 [00:37<00:00, 263767.39it/s]\n",
      "100%|██████████| 10000000/10000000 [00:37<00:00, 263458.09it/s]\n"
     ]
    },
    {
     "name": "stdout",
     "output_type": "stream",
     "text": [
      "d=0.1 done\n"
     ]
    },
    {
     "name": "stderr",
     "output_type": "stream",
     "text": [
      "100%|██████████| 10000000/10000000 [00:38<00:00, 257637.16it/s]\n",
      "100%|██████████| 10000000/10000000 [00:39<00:00, 256390.35it/s]\n"
     ]
    },
    {
     "name": "stdout",
     "output_type": "stream",
     "text": [
      "d=0.02826086956521739 done\n"
     ]
    },
    {
     "name": "stderr",
     "output_type": "stream",
     "text": [
      "100%|██████████| 10000000/10000000 [00:38<00:00, 260840.16it/s]\n",
      "100%|██████████| 10000000/10000000 [00:38<00:00, 259869.42it/s]\n"
     ]
    },
    {
     "name": "stdout",
     "output_type": "stream",
     "text": [
      "d=0.016455696202531647 done\n"
     ]
    },
    {
     "name": "stderr",
     "output_type": "stream",
     "text": [
      "100%|██████████| 10000000/10000000 [00:38<00:00, 256594.10it/s]\n",
      "100%|██████████| 10000000/10000000 [00:38<00:00, 259540.65it/s]\n"
     ]
    },
    {
     "name": "stdout",
     "output_type": "stream",
     "text": [
      "d=0.011607142857142858 done\n"
     ]
    },
    {
     "name": "stderr",
     "output_type": "stream",
     "text": [
      "100%|██████████| 10000000/10000000 [00:38<00:00, 256947.12it/s]\n",
      "100%|██████████| 10000000/10000000 [00:39<00:00, 251666.10it/s]\n"
     ]
    },
    {
     "name": "stdout",
     "output_type": "stream",
     "text": [
      "d=0.008965517241379312 done\n"
     ]
    },
    {
     "name": "stderr",
     "output_type": "stream",
     "text": [
      "100%|██████████| 10000000/10000000 [00:39<00:00, 255483.58it/s]\n",
      "100%|██████████| 10000000/10000000 [00:38<00:00, 258598.15it/s]\n"
     ]
    },
    {
     "name": "stdout",
     "output_type": "stream",
     "text": [
      "d=0.007303370786516855 done\n"
     ]
    },
    {
     "name": "stderr",
     "output_type": "stream",
     "text": [
      "100%|██████████| 10000000/10000000 [00:38<00:00, 262683.91it/s]\n",
      "100%|██████████| 10000000/10000000 [00:38<00:00, 262266.34it/s]\n"
     ]
    },
    {
     "name": "stdout",
     "output_type": "stream",
     "text": [
      "d=0.006161137440758294 done\n"
     ]
    },
    {
     "name": "stderr",
     "output_type": "stream",
     "text": [
      "100%|██████████| 10000000/10000000 [00:38<00:00, 262112.53it/s]\n",
      "100%|██████████| 10000000/10000000 [00:38<00:00, 258029.98it/s]\n"
     ]
    },
    {
     "name": "stdout",
     "output_type": "stream",
     "text": [
      "d=0.005327868852459017 done\n"
     ]
    },
    {
     "name": "stderr",
     "output_type": "stream",
     "text": [
      "100%|██████████| 10000000/10000000 [00:38<00:00, 257607.51it/s]\n",
      "100%|██████████| 10000000/10000000 [00:39<00:00, 255373.01it/s]\n"
     ]
    },
    {
     "name": "stdout",
     "output_type": "stream",
     "text": [
      "d=0.004693140794223827 done\n"
     ]
    },
    {
     "name": "stderr",
     "output_type": "stream",
     "text": [
      "100%|██████████| 10000000/10000000 [00:39<00:00, 255633.99it/s]\n",
      "100%|██████████| 10000000/10000000 [00:39<00:00, 253371.03it/s]\n"
     ]
    },
    {
     "name": "stdout",
     "output_type": "stream",
     "text": [
      "d=0.004193548387096774 done\n"
     ]
    },
    {
     "name": "stderr",
     "output_type": "stream",
     "text": [
      "100%|██████████| 10000000/10000000 [00:38<00:00, 257197.33it/s]\n",
      "100%|██████████| 10000000/10000000 [00:39<00:00, 254350.99it/s]\n"
     ]
    },
    {
     "name": "stdout",
     "output_type": "stream",
     "text": [
      "d=0.003790087463556852 done\n"
     ]
    },
    {
     "name": "stderr",
     "output_type": "stream",
     "text": [
      "100%|██████████| 10000000/10000000 [00:38<00:00, 257359.10it/s]\n",
      "100%|██████████| 10000000/10000000 [00:38<00:00, 257063.73it/s]\n"
     ]
    },
    {
     "name": "stdout",
     "output_type": "stream",
     "text": [
      "d=0.0034574468085106385 done\n"
     ]
    },
    {
     "name": "stderr",
     "output_type": "stream",
     "text": [
      "100%|██████████| 10000000/10000000 [00:38<00:00, 259417.57it/s]\n",
      "100%|██████████| 10000000/10000000 [00:38<00:00, 260074.43it/s]\n"
     ]
    },
    {
     "name": "stdout",
     "output_type": "stream",
     "text": [
      "d=0.0031784841075794623 done\n"
     ]
    },
    {
     "name": "stderr",
     "output_type": "stream",
     "text": [
      "100%|██████████| 10000000/10000000 [00:38<00:00, 262099.33it/s]\n",
      "100%|██████████| 10000000/10000000 [00:38<00:00, 262057.19it/s]\n"
     ]
    },
    {
     "name": "stdout",
     "output_type": "stream",
     "text": [
      "d=0.0029411764705882353 done\n"
     ]
    },
    {
     "name": "stderr",
     "output_type": "stream",
     "text": [
      "100%|██████████| 10000000/10000000 [00:38<00:00, 262238.31it/s]\n",
      "100%|██████████| 10000000/10000000 [00:38<00:00, 261808.87it/s]\n"
     ]
    },
    {
     "name": "stdout",
     "output_type": "stream",
     "text": [
      "d=0.002736842105263158 done\n"
     ]
    },
    {
     "name": "stderr",
     "output_type": "stream",
     "text": [
      "100%|██████████| 10000000/10000000 [00:37<00:00, 263936.96it/s]\n",
      "100%|██████████| 10000000/10000000 [00:38<00:00, 262352.75it/s]\n"
     ]
    },
    {
     "name": "stdout",
     "output_type": "stream",
     "text": [
      "d=0.002559055118110236 done\n"
     ]
    },
    {
     "name": "stderr",
     "output_type": "stream",
     "text": [
      "100%|██████████| 10000000/10000000 [00:38<00:00, 261016.29it/s]\n",
      "100%|██████████| 10000000/10000000 [00:38<00:00, 261545.65it/s]\n"
     ]
    },
    {
     "name": "stdout",
     "output_type": "stream",
     "text": [
      "d=0.002402957486136784 done\n"
     ]
    },
    {
     "name": "stderr",
     "output_type": "stream",
     "text": [
      "100%|██████████| 10000000/10000000 [00:38<00:00, 262318.66it/s]\n",
      "100%|██████████| 10000000/10000000 [00:38<00:00, 259827.32it/s]\n"
     ]
    },
    {
     "name": "stdout",
     "output_type": "stream",
     "text": [
      "d=0.002264808362369338 done\n"
     ]
    },
    {
     "name": "stderr",
     "output_type": "stream",
     "text": [
      "100%|██████████| 10000000/10000000 [00:38<00:00, 260210.29it/s]\n",
      "100%|██████████| 10000000/10000000 [00:38<00:00, 261410.88it/s]\n"
     ]
    },
    {
     "name": "stdout",
     "output_type": "stream",
     "text": [
      "d=0.00214168039538715 done\n"
     ]
    },
    {
     "name": "stderr",
     "output_type": "stream",
     "text": [
      "100%|██████████| 10000000/10000000 [00:38<00:00, 259652.74it/s]\n",
      "100%|██████████| 10000000/10000000 [00:38<00:00, 258617.43it/s]\n"
     ]
    },
    {
     "name": "stdout",
     "output_type": "stream",
     "text": [
      "d=0.00203125 done\n"
     ]
    },
    {
     "name": "stderr",
     "output_type": "stream",
     "text": [
      "100%|██████████| 10000000/10000000 [00:38<00:00, 262008.52it/s]\n",
      "100%|██████████| 10000000/10000000 [00:38<00:00, 262619.85it/s]\n"
     ]
    },
    {
     "name": "stdout",
     "output_type": "stream",
     "text": [
      "d=0.0019316493313521548 done\n"
     ]
    },
    {
     "name": "stderr",
     "output_type": "stream",
     "text": [
      "100%|██████████| 10000000/10000000 [00:38<00:00, 259368.52it/s]\n",
      "100%|██████████| 10000000/10000000 [00:38<00:00, 258478.02it/s]\n"
     ]
    },
    {
     "name": "stdout",
     "output_type": "stream",
     "text": [
      "d=0.0018413597733711047 done\n"
     ]
    },
    {
     "name": "stderr",
     "output_type": "stream",
     "text": [
      "100%|██████████| 10000000/10000000 [00:38<00:00, 262564.56it/s]\n",
      "100%|██████████| 10000000/10000000 [00:37<00:00, 263201.90it/s]\n"
     ]
    },
    {
     "name": "stdout",
     "output_type": "stream",
     "text": [
      "d=0.0017591339648173208 done\n"
     ]
    },
    {
     "name": "stderr",
     "output_type": "stream",
     "text": [
      "100%|██████████| 10000000/10000000 [00:38<00:00, 262120.91it/s]\n",
      "100%|██████████| 10000000/10000000 [00:38<00:00, 261871.10it/s]\n"
     ]
    },
    {
     "name": "stdout",
     "output_type": "stream",
     "text": [
      "d=0.001683937823834197 done\n"
     ]
    },
    {
     "name": "stderr",
     "output_type": "stream",
     "text": [
      "100%|██████████| 10000000/10000000 [00:37<00:00, 263179.74it/s]\n",
      "100%|██████████| 10000000/10000000 [00:38<00:00, 260827.46it/s]\n"
     ]
    },
    {
     "name": "stdout",
     "output_type": "stream",
     "text": [
      "d=0.0016149068322981368 done\n"
     ]
    },
    {
     "name": "stderr",
     "output_type": "stream",
     "text": [
      "100%|██████████| 10000000/10000000 [00:38<00:00, 262305.82it/s]\n",
      "100%|██████████| 10000000/10000000 [00:38<00:00, 261024.44it/s]\n"
     ]
    },
    {
     "name": "stdout",
     "output_type": "stream",
     "text": [
      "d=0.001551312649164678 done\n"
     ]
    },
    {
     "name": "stderr",
     "output_type": "stream",
     "text": [
      "100%|██████████| 10000000/10000000 [00:38<00:00, 262358.05it/s]\n",
      "100%|██████████| 10000000/10000000 [00:38<00:00, 261810.28it/s]\n"
     ]
    },
    {
     "name": "stdout",
     "output_type": "stream",
     "text": [
      "d=0.0014925373134328358 done\n"
     ]
    },
    {
     "name": "stderr",
     "output_type": "stream",
     "text": [
      "100%|██████████| 10000000/10000000 [00:38<00:00, 257627.44it/s]\n",
      "100%|██████████| 10000000/10000000 [00:38<00:00, 257692.62it/s]\n"
     ]
    },
    {
     "name": "stdout",
     "output_type": "stream",
     "text": [
      "d=0.0014380530973451327 done\n"
     ]
    },
    {
     "name": "stderr",
     "output_type": "stream",
     "text": [
      "100%|██████████| 10000000/10000000 [00:39<00:00, 256274.99it/s]\n",
      "100%|██████████| 10000000/10000000 [00:38<00:00, 259357.04it/s]\n"
     ]
    },
    {
     "name": "stdout",
     "output_type": "stream",
     "text": [
      "d=0.0013874066168623267 done\n"
     ]
    },
    {
     "name": "stderr",
     "output_type": "stream",
     "text": [
      "100%|██████████| 10000000/10000000 [00:38<00:00, 262405.68it/s]\n",
      "100%|██████████| 10000000/10000000 [00:38<00:00, 262794.28it/s]\n"
     ]
    },
    {
     "name": "stdout",
     "output_type": "stream",
     "text": [
      "d=0.0013402061855670104 done\n"
     ]
    },
    {
     "name": "stderr",
     "output_type": "stream",
     "text": [
      "100%|██████████| 10000000/10000000 [00:38<00:00, 261211.42it/s]\n",
      "100%|██████████| 10000000/10000000 [00:38<00:00, 262062.92it/s]\n"
     ]
    },
    {
     "name": "stdout",
     "output_type": "stream",
     "text": [
      "d=0.001296111665004985 done\n"
     ]
    },
    {
     "name": "stderr",
     "output_type": "stream",
     "text": [
      "100%|██████████| 10000000/10000000 [00:38<00:00, 262772.99it/s]\n",
      "100%|██████████| 10000000/10000000 [00:38<00:00, 262844.31it/s]\n"
     ]
    },
    {
     "name": "stdout",
     "output_type": "stream",
     "text": [
      "d=0.0012548262548262548 done\n"
     ]
    },
    {
     "name": "stderr",
     "output_type": "stream",
     "text": [
      "100%|██████████| 10000000/10000000 [00:37<00:00, 264906.45it/s]\n",
      "100%|██████████| 10000000/10000000 [00:38<00:00, 262622.90it/s]\n"
     ]
    },
    {
     "name": "stdout",
     "output_type": "stream",
     "text": [
      "d=0.0012160898035547241 done\n"
     ]
    },
    {
     "name": "stderr",
     "output_type": "stream",
     "text": [
      "100%|██████████| 10000000/10000000 [00:37<00:00, 264015.59it/s]\n",
      "100%|██████████| 10000000/10000000 [00:38<00:00, 261291.29it/s]\n"
     ]
    },
    {
     "name": "stdout",
     "output_type": "stream",
     "text": [
      "d=0.0011796733212341198 done\n"
     ]
    },
    {
     "name": "stderr",
     "output_type": "stream",
     "text": [
      "100%|██████████| 10000000/10000000 [00:37<00:00, 264977.15it/s]\n",
      "100%|██████████| 10000000/10000000 [00:38<00:00, 261521.35it/s]\n"
     ]
    },
    {
     "name": "stdout",
     "output_type": "stream",
     "text": [
      "d=0.0011453744493392071 done\n"
     ]
    },
    {
     "name": "stderr",
     "output_type": "stream",
     "text": [
      "100%|██████████| 10000000/10000000 [00:38<00:00, 262621.62it/s]\n",
      "100%|██████████| 10000000/10000000 [00:37<00:00, 264425.52it/s]\n"
     ]
    },
    {
     "name": "stdout",
     "output_type": "stream",
     "text": [
      "d=0.001113013698630137 done\n"
     ]
    },
    {
     "name": "stderr",
     "output_type": "stream",
     "text": [
      "100%|██████████| 10000000/10000000 [00:38<00:00, 262832.17it/s]\n",
      "100%|██████████| 10000000/10000000 [00:38<00:00, 261295.52it/s]\n"
     ]
    },
    {
     "name": "stdout",
     "output_type": "stream",
     "text": [
      "d=0.0010824313072439634 done\n"
     ]
    },
    {
     "name": "stderr",
     "output_type": "stream",
     "text": [
      "100%|██████████| 10000000/10000000 [00:38<00:00, 260876.60it/s]\n",
      "100%|██████████| 10000000/10000000 [00:37<00:00, 263644.42it/s]\n"
     ]
    },
    {
     "name": "stdout",
     "output_type": "stream",
     "text": [
      "d=0.001053484602917342 done\n"
     ]
    },
    {
     "name": "stderr",
     "output_type": "stream",
     "text": [
      "100%|██████████| 10000000/10000000 [00:37<00:00, 265186.25it/s]\n",
      "100%|██████████| 10000000/10000000 [00:37<00:00, 265146.96it/s]\n"
     ]
    },
    {
     "name": "stdout",
     "output_type": "stream",
     "text": [
      "d=0.001026045777426993 done\n"
     ]
    },
    {
     "name": "stderr",
     "output_type": "stream",
     "text": [
      "100%|██████████| 10000000/10000000 [00:38<00:00, 262445.13it/s]\n",
      "100%|██████████| 10000000/10000000 [00:38<00:00, 263035.93it/s]\n"
     ]
    },
    {
     "name": "stdout",
     "output_type": "stream",
     "text": [
      "d=0.001 done\n",
      "[0.6413452 0.8125628 0.875781  0.9094624 0.93028   0.9442361 0.9543761\n",
      " 0.9616932 0.9672733 0.9718137 0.975362  0.9781873 0.9806633 0.9826762\n",
      " 0.9843993 0.9858807 0.9871281 0.9882822 0.9892174 0.9900232 0.9908115\n",
      " 0.9914951 0.9920931 0.9926055 0.9931002 0.9935255 0.9939561 0.9942682\n",
      " 0.9946332 0.9949176 0.9952113 0.9954407 0.9957038 0.9959168 0.9960883\n",
      " 0.9962888 0.9964311 0.9966278 0.9967752 0.9969284]\n"
     ]
    }
   ],
   "source": [
    "# numeric experiment\n",
    "import numpy as np\n",
    "from tqdm import tqdm\n",
    "\n",
    "def Experiment_SequentialPulling(C, d1, d2, r1, r2, random_seed, n_experiment):\n",
    "    np.random.seed(random_seed)\n",
    "    # the interval between neighbour consumption\n",
    "    interval_consumption_1 = np.random.geometric(d1, size=(n_experiment, C))\n",
    "    interval_consumption_2 = np.random.geometric(d2, size=(n_experiment, C))\n",
    "\n",
    "    # at which round the demand is 1\n",
    "    round_consumption_1 = np.cumsum(interval_consumption_1, axis=1)\n",
    "    round_consumption_2 = np.cumsum(interval_consumption_2, axis=1)\n",
    "\n",
    "    count_arm_1 = np.zeros(shape=n_experiment, dtype=int)\n",
    "    count_arm_2 = np.zeros(shape=n_experiment, dtype=int)\n",
    "    for c_count in range(1, C + 1):\n",
    "        arm_index = (\n",
    "            round_consumption_1[np.arange(0, n_experiment), count_arm_1]\n",
    "            <= round_consumption_2[np.arange(0, n_experiment), count_arm_2]\n",
    "        )\n",
    "        count_arm_1[arm_index] = count_arm_1[arm_index] + 1\n",
    "        count_arm_2[~arm_index] = count_arm_2[~arm_index] + 1\n",
    "    stopping_time = np.maximum(\n",
    "        round_consumption_1[np.arange(0, n_experiment), count_arm_1 - 1],\n",
    "        round_consumption_2[np.arange(0, n_experiment), count_arm_2 - 1],\n",
    "    )\n",
    "    assert np.min(round_consumption_1) > 0, \"numeric error\"\n",
    "    assert np.min(round_consumption_2) > 0, \"numeric error\"\n",
    "    assert np.min(stopping_time) > 0, \"numeric error\"\n",
    "\n",
    "    arm_1_total_reward = np.array([np.random.binomial(T, r1) for T in tqdm(stopping_time)])\n",
    "    arm_2_total_reward = np.array([np.random.binomial(T, r2) for T in tqdm(stopping_time)])\n",
    "    \n",
    "    if r1 > r2:\n",
    "        success_rate = np.sum(arm_1_total_reward > arm_2_total_reward) / n_experiment\n",
    "    else:\n",
    "        success_rate = np.sum(arm_1_total_reward < arm_2_total_reward) / n_experiment\n",
    "    \n",
    "    return success_rate, count_arm_1, count_arm_2\n",
    "\n",
    "# d_list = np.geomspace(start=1e-1, stop=1e-3, num=40)\n",
    "d_inverse_list = np.linspace(start=1 / 1e-1, stop=1 / 1e-3, num=40)\n",
    "d_list = 1 / d_inverse_list\n",
    "\n",
    "n_experiment = 10000000\n",
    "random_seed = 12345\n",
    "success_list = np.zeros(len(d_list))\n",
    "for ii, d in enumerate(d_list):\n",
    "    r1 = 0.5\n",
    "    r2 = 0.4\n",
    "    d1 = d\n",
    "    d2 = d\n",
    "    C = 2\n",
    "    success_rate, _, _ = Experiment_SequentialPulling(C, d1, d2, r1, r2, random_seed, n_experiment)\n",
    "    print(f\"d={d} done\")\n",
    "    success_list[ii] = success_rate\n",
    "    \n",
    "print(success_list)"
   ]
  },
  {
   "cell_type": "code",
   "execution_count": 2,
   "id": "7bbb85df",
   "metadata": {
    "execution": {
     "iopub.execute_input": "2023-01-04T09:26:14.690606Z",
     "iopub.status.busy": "2023-01-04T09:26:14.690196Z",
     "iopub.status.idle": "2023-01-04T09:26:14.695244Z",
     "shell.execute_reply": "2023-01-04T09:26:14.694360Z"
    },
    "hidden": true,
    "papermill": {
     "duration": 1.894856,
     "end_time": "2023-01-04T09:26:14.697384",
     "exception": false,
     "start_time": "2023-01-04T09:26:12.802528",
     "status": "completed"
    },
    "tags": []
   },
   "outputs": [],
   "source": [
    "np.save(\"./fail-d-d_list.npy\", d_list)\n",
    "np.save(\"./fail-d-success.npy\", success_list)"
   ]
  },
  {
   "cell_type": "code",
   "execution_count": 3,
   "id": "f33f83c2",
   "metadata": {
    "execution": {
     "iopub.execute_input": "2023-01-04T09:26:18.692415Z",
     "iopub.status.busy": "2023-01-04T09:26:18.691973Z",
     "iopub.status.idle": "2023-01-04T09:26:19.151508Z",
     "shell.execute_reply": "2023-01-04T09:26:19.150029Z"
    },
    "hidden": true,
    "papermill": {
     "duration": 2.409663,
     "end_time": "2023-01-04T09:26:19.154161",
     "exception": false,
     "start_time": "2023-01-04T09:26:16.744498",
     "status": "completed"
    },
    "tags": []
   },
   "outputs": [
    {
     "data": {
      "image/png": "[encoded data removed]",
      "text/plain": [
       "<Figure size 432x288 with 1 Axes>"
      ]
     },
     "metadata": {
      "needs_background": "light"
     },
     "output_type": "display_data"
    }
   ],
   "source": [
    "import matplotlib.pyplot as plt\n",
    "\n",
    "# d_list = np.load(\"./Numeric-Record/Check_FailureProb_Expression/fail-d-d_list.npy\")\n",
    "# success_list = np.load(\"./Numeric-Record/Check_FailureProb_Expression/fail-d-success.npy\")\n",
    "\n",
    "index = 1-success_list >= 1e-6\n",
    "d_list = d_list[index]\n",
    "success_list = success_list[index]\n",
    "\n",
    "plt.figure()\n",
    "plt.plot(np.log(d_list), np.log(1-success_list), \"-*\")\n",
    "plt.xlabel(r\"$\\log d$\")\n",
    "plt.ylabel(r\"$\\log \\mathbb{P}(failure)$\")\n",
    "plt.show()"
   ]
  },
  {
   "cell_type": "markdown",
   "id": "50e0d83d",
   "metadata": {
    "heading_collapsed": true,
    "papermill": {
     "duration": 1.880182,
     "end_time": "2023-01-04T09:26:22.988574",
     "exception": false,
     "start_time": "2023-01-04T09:26:21.108392",
     "status": "completed"
    },
    "tags": []
   },
   "source": [
    "# Deterministic Consumption"
   ]
  },
  {
   "cell_type": "code",
   "execution_count": 4,
   "id": "04f5cf18",
   "metadata": {
    "code_folding": [],
    "collapsed": true,
    "execution": {
     "iopub.execute_input": "2023-01-04T09:26:27.035734Z",
     "iopub.status.busy": "2023-01-04T09:26:27.034978Z",
     "iopub.status.idle": "2023-01-04T09:27:40.638412Z",
     "shell.execute_reply": "2023-01-04T09:27:40.636978Z"
    },
    "hidden": true,
    "papermill": {
     "duration": 75.599282,
     "end_time": "2023-01-04T09:27:40.640989",
     "exception": false,
     "start_time": "2023-01-04T09:26:25.041707",
     "status": "completed"
    },
    "tags": []
   },
   "outputs": [
    {
     "name": "stderr",
     "output_type": "stream",
     "text": [
      "100%|██████████| 1001/1001 [00:01<00:00, 760.07it/s]\n"
     ]
    },
    {
     "name": "stdout",
     "output_type": "stream",
     "text": [
      "d=0.1 done\n"
     ]
    },
    {
     "name": "stderr",
     "output_type": "stream",
     "text": [
      "100%|██████████| 1001/1001 [00:03<00:00, 324.04it/s]\n"
     ]
    },
    {
     "name": "stdout",
     "output_type": "stream",
     "text": [
      "d=0.02826086956521739 done\n"
     ]
    },
    {
     "name": "stderr",
     "output_type": "stream",
     "text": [
      "100%|██████████| 1001/1001 [00:04<00:00, 210.01it/s]\n"
     ]
    },
    {
     "name": "stdout",
     "output_type": "stream",
     "text": [
      "d=0.016455696202531647 done\n"
     ]
    },
    {
     "name": "stderr",
     "output_type": "stream",
     "text": [
      "100%|██████████| 1001/1001 [00:02<00:00, 426.59it/s]\n"
     ]
    },
    {
     "name": "stdout",
     "output_type": "stream",
     "text": [
      "d=0.011607142857142858 done\n"
     ]
    },
    {
     "name": "stderr",
     "output_type": "stream",
     "text": [
      "100%|██████████| 1001/1001 [00:02<00:00, 444.27it/s]\n"
     ]
    },
    {
     "name": "stdout",
     "output_type": "stream",
     "text": [
      "d=0.008965517241379312 done\n"
     ]
    },
    {
     "name": "stderr",
     "output_type": "stream",
     "text": [
      "100%|██████████| 1001/1001 [00:02<00:00, 479.87it/s]\n"
     ]
    },
    {
     "name": "stdout",
     "output_type": "stream",
     "text": [
      "d=0.007303370786516855 done\n"
     ]
    },
    {
     "name": "stderr",
     "output_type": "stream",
     "text": [
      "100%|██████████| 1001/1001 [00:01<00:00, 500.68it/s]\n"
     ]
    },
    {
     "name": "stdout",
     "output_type": "stream",
     "text": [
      "d=0.006161137440758294 done\n"
     ]
    },
    {
     "name": "stderr",
     "output_type": "stream",
     "text": [
      "100%|██████████| 1001/1001 [00:01<00:00, 516.29it/s]\n"
     ]
    },
    {
     "name": "stdout",
     "output_type": "stream",
     "text": [
      "d=0.005327868852459017 done\n"
     ]
    },
    {
     "name": "stderr",
     "output_type": "stream",
     "text": [
      "100%|██████████| 1001/1001 [00:01<00:00, 522.06it/s]\n"
     ]
    },
    {
     "name": "stdout",
     "output_type": "stream",
     "text": [
      "d=0.004693140794223827 done\n"
     ]
    },
    {
     "name": "stderr",
     "output_type": "stream",
     "text": [
      "100%|██████████| 1001/1001 [00:01<00:00, 534.70it/s]\n"
     ]
    },
    {
     "name": "stdout",
     "output_type": "stream",
     "text": [
      "d=0.004193548387096774 done\n"
     ]
    },
    {
     "name": "stderr",
     "output_type": "stream",
     "text": [
      "100%|██████████| 1001/1001 [00:01<00:00, 543.97it/s]\n"
     ]
    },
    {
     "name": "stdout",
     "output_type": "stream",
     "text": [
      "d=0.003790087463556852 done\n"
     ]
    },
    {
     "name": "stderr",
     "output_type": "stream",
     "text": [
      "100%|██████████| 1001/1001 [00:01<00:00, 550.61it/s]\n"
     ]
    },
    {
     "name": "stdout",
     "output_type": "stream",
     "text": [
      "d=0.0034574468085106385 done\n"
     ]
    },
    {
     "name": "stderr",
     "output_type": "stream",
     "text": [
      "100%|██████████| 1001/1001 [00:01<00:00, 555.13it/s]\n"
     ]
    },
    {
     "name": "stdout",
     "output_type": "stream",
     "text": [
      "d=0.0031784841075794623 done\n"
     ]
    },
    {
     "name": "stderr",
     "output_type": "stream",
     "text": [
      "100%|██████████| 1001/1001 [00:01<00:00, 559.44it/s]\n"
     ]
    },
    {
     "name": "stdout",
     "output_type": "stream",
     "text": [
      "d=0.0029411764705882353 done\n"
     ]
    },
    {
     "name": "stderr",
     "output_type": "stream",
     "text": [
      "100%|██████████| 1001/1001 [00:01<00:00, 563.30it/s]\n"
     ]
    },
    {
     "name": "stdout",
     "output_type": "stream",
     "text": [
      "d=0.002736842105263158 done\n"
     ]
    },
    {
     "name": "stderr",
     "output_type": "stream",
     "text": [
      "100%|██████████| 1001/1001 [00:01<00:00, 574.18it/s]\n"
     ]
    },
    {
     "name": "stdout",
     "output_type": "stream",
     "text": [
      "d=0.002559055118110236 done\n"
     ]
    },
    {
     "name": "stderr",
     "output_type": "stream",
     "text": [
      "100%|██████████| 1001/1001 [00:01<00:00, 582.58it/s]\n"
     ]
    },
    {
     "name": "stdout",
     "output_type": "stream",
     "text": [
      "d=0.002402957486136784 done\n"
     ]
    },
    {
     "name": "stderr",
     "output_type": "stream",
     "text": [
      "100%|██████████| 1001/1001 [00:01<00:00, 591.25it/s]\n"
     ]
    },
    {
     "name": "stdout",
     "output_type": "stream",
     "text": [
      "d=0.002264808362369338 done\n"
     ]
    },
    {
     "name": "stderr",
     "output_type": "stream",
     "text": [
      "100%|██████████| 1001/1001 [00:01<00:00, 595.83it/s]\n"
     ]
    },
    {
     "name": "stdout",
     "output_type": "stream",
     "text": [
      "d=0.00214168039538715 done\n"
     ]
    },
    {
     "name": "stderr",
     "output_type": "stream",
     "text": [
      "100%|██████████| 1001/1001 [00:01<00:00, 595.06it/s]\n"
     ]
    },
    {
     "name": "stdout",
     "output_type": "stream",
     "text": [
      "d=0.00203125 done\n"
     ]
    },
    {
     "name": "stderr",
     "output_type": "stream",
     "text": [
      "100%|██████████| 1001/1001 [00:01<00:00, 601.50it/s]\n"
     ]
    },
    {
     "name": "stdout",
     "output_type": "stream",
     "text": [
      "d=0.0019316493313521548 done\n"
     ]
    },
    {
     "name": "stderr",
     "output_type": "stream",
     "text": [
      "100%|██████████| 1001/1001 [00:01<00:00, 591.17it/s]\n"
     ]
    },
    {
     "name": "stdout",
     "output_type": "stream",
     "text": [
      "d=0.0018413597733711047 done\n"
     ]
    },
    {
     "name": "stderr",
     "output_type": "stream",
     "text": [
      "100%|██████████| 1001/1001 [00:01<00:00, 608.08it/s]\n"
     ]
    },
    {
     "name": "stdout",
     "output_type": "stream",
     "text": [
      "d=0.0017591339648173208 done\n"
     ]
    },
    {
     "name": "stderr",
     "output_type": "stream",
     "text": [
      "100%|██████████| 1001/1001 [00:01<00:00, 614.23it/s]\n"
     ]
    },
    {
     "name": "stdout",
     "output_type": "stream",
     "text": [
      "d=0.001683937823834197 done\n"
     ]
    },
    {
     "name": "stderr",
     "output_type": "stream",
     "text": [
      "100%|██████████| 1001/1001 [00:01<00:00, 624.43it/s]\n"
     ]
    },
    {
     "name": "stdout",
     "output_type": "stream",
     "text": [
      "d=0.0016149068322981368 done\n"
     ]
    },
    {
     "name": "stderr",
     "output_type": "stream",
     "text": [
      "100%|██████████| 1001/1001 [00:01<00:00, 626.64it/s]\n"
     ]
    },
    {
     "name": "stdout",
     "output_type": "stream",
     "text": [
      "d=0.001551312649164678 done\n"
     ]
    },
    {
     "name": "stderr",
     "output_type": "stream",
     "text": [
      "100%|██████████| 1001/1001 [00:01<00:00, 617.26it/s]\n"
     ]
    },
    {
     "name": "stdout",
     "output_type": "stream",
     "text": [
      "d=0.0014925373134328358 done\n"
     ]
    },
    {
     "name": "stderr",
     "output_type": "stream",
     "text": [
      "100%|██████████| 1001/1001 [00:01<00:00, 621.97it/s]\n"
     ]
    },
    {
     "name": "stdout",
     "output_type": "stream",
     "text": [
      "d=0.0014380530973451327 done\n"
     ]
    },
    {
     "name": "stderr",
     "output_type": "stream",
     "text": [
      "100%|██████████| 1001/1001 [00:01<00:00, 632.97it/s]\n"
     ]
    },
    {
     "name": "stdout",
     "output_type": "stream",
     "text": [
      "d=0.0013874066168623267 done\n"
     ]
    },
    {
     "name": "stderr",
     "output_type": "stream",
     "text": [
      "100%|██████████| 1001/1001 [00:01<00:00, 639.49it/s]\n"
     ]
    },
    {
     "name": "stdout",
     "output_type": "stream",
     "text": [
      "d=0.0013402061855670104 done\n"
     ]
    },
    {
     "name": "stderr",
     "output_type": "stream",
     "text": [
      "100%|██████████| 1001/1001 [00:01<00:00, 643.77it/s]\n"
     ]
    },
    {
     "name": "stdout",
     "output_type": "stream",
     "text": [
      "d=0.001296111665004985 done\n"
     ]
    },
    {
     "name": "stderr",
     "output_type": "stream",
     "text": [
      "100%|██████████| 1001/1001 [00:01<00:00, 641.74it/s]\n"
     ]
    },
    {
     "name": "stdout",
     "output_type": "stream",
     "text": [
      "d=0.0012548262548262548 done\n"
     ]
    },
    {
     "name": "stderr",
     "output_type": "stream",
     "text": [
      "100%|██████████| 1001/1001 [00:01<00:00, 642.00it/s]\n"
     ]
    },
    {
     "name": "stdout",
     "output_type": "stream",
     "text": [
      "d=0.0012160898035547241 done\n"
     ]
    },
    {
     "name": "stderr",
     "output_type": "stream",
     "text": [
      "100%|██████████| 1001/1001 [00:01<00:00, 643.45it/s]\n"
     ]
    },
    {
     "name": "stdout",
     "output_type": "stream",
     "text": [
      "d=0.0011796733212341198 done\n"
     ]
    },
    {
     "name": "stderr",
     "output_type": "stream",
     "text": [
      "100%|██████████| 1001/1001 [00:01<00:00, 631.92it/s]\n"
     ]
    },
    {
     "name": "stdout",
     "output_type": "stream",
     "text": [
      "d=0.0011453744493392071 done\n"
     ]
    },
    {
     "name": "stderr",
     "output_type": "stream",
     "text": [
      "100%|██████████| 1001/1001 [00:01<00:00, 646.04it/s]\n"
     ]
    },
    {
     "name": "stdout",
     "output_type": "stream",
     "text": [
      "d=0.001113013698630137 done\n"
     ]
    },
    {
     "name": "stderr",
     "output_type": "stream",
     "text": [
      "100%|██████████| 1001/1001 [00:01<00:00, 651.13it/s]\n"
     ]
    },
    {
     "name": "stdout",
     "output_type": "stream",
     "text": [
      "d=0.0010824313072439634 done\n"
     ]
    },
    {
     "name": "stderr",
     "output_type": "stream",
     "text": [
      "100%|██████████| 1001/1001 [00:01<00:00, 656.28it/s]\n"
     ]
    },
    {
     "name": "stdout",
     "output_type": "stream",
     "text": [
      "d=0.001053484602917342 done\n"
     ]
    },
    {
     "name": "stderr",
     "output_type": "stream",
     "text": [
      "100%|██████████| 1001/1001 [00:01<00:00, 662.72it/s]\n"
     ]
    },
    {
     "name": "stdout",
     "output_type": "stream",
     "text": [
      "d=0.001026045777426993 done\n"
     ]
    },
    {
     "name": "stderr",
     "output_type": "stream",
     "text": [
      "100%|██████████| 1001/1001 [00:01<00:00, 659.98it/s]\n"
     ]
    },
    {
     "name": "stdout",
     "output_type": "stream",
     "text": [
      "d=0.001 done\n",
      "[0.5919946 0.7661059 0.844795  0.8937074 0.9245282 0.9455487 0.9606314\n",
      " 0.9710909 0.9788867 0.9844321 0.9883559 0.9913463 0.993534  0.9952082\n",
      " 0.9964032 0.9972677 0.9979521 0.9984609 0.9988483 0.9991227 0.9993338\n",
      " 0.9994929 0.9996133 0.999717  0.9997819 0.999827  0.9998625 0.9999023\n",
      " 0.9999286 0.9999444 0.999959  0.9999676 0.9999775 0.999981  0.9999859\n",
      " 0.9999894 0.9999921 0.9999932 0.9999945 0.9999959]\n"
     ]
    }
   ],
   "source": [
    "# numeric experiment\n",
    "import numpy as np\n",
    "from tqdm import tqdm\n",
    "\n",
    "def Experiment_Deterministic_consumption(C, d1, d2, r1, r2, random_seed, n_experiment):\n",
    "    np.random.seed(random_seed)\n",
    "\n",
    "    # generate sample path\n",
    "    n = int(np.floor(C / (d1 + d2)))\n",
    "    batch_size = 10000\n",
    "    success_or_not = np.zeros(n_experiment)\n",
    "    for batch_id in tqdm(range(n_experiment // batch_size + 1)):\n",
    "        if batch_id == n_experiment // batch_size:\n",
    "            index = np.arange(batch_id * batch_size, n_experiment)\n",
    "        else:\n",
    "            index = np.arange(batch_id * batch_size, (batch_id+1) * batch_size)\n",
    "                \n",
    "        reward_1 = np.random.binomial(n, r1, size=len(index))\n",
    "        reward_2 = np.random.binomial(n, r2, size=len(index))\n",
    "#         if d1 < 1e-5:\n",
    "#             print(f\"n {n}, reward_1 {reward_1[0:5]}, reward_2 {reward_2[0:5]}\")\n",
    "#             assert False\n",
    "        \n",
    "        if r1 > r2:\n",
    "            success_or_not[index] = reward_1 > reward_2\n",
    "        else:\n",
    "            success_or_not[index] = reward_1 <= reward_2\n",
    "            \n",
    "    return np.mean(success_or_not)\n",
    "\n",
    "# d_list = np.geomspace(start=1e-1, stop=1e-3, num=40)\n",
    "d_inverse_list = np.linspace(start=1 / 1e-1, stop=1 / 1e-3, num=40)\n",
    "d_list = 1 / d_inverse_list\n",
    "\n",
    "n_experiment = 10000000\n",
    "random_seed = 12345\n",
    "success_list = np.zeros(len(d_list))\n",
    "for ii, d in enumerate(d_list):\n",
    "    r1 = 0.5\n",
    "    r2 = 0.4\n",
    "    d1 = d\n",
    "    d2 = d\n",
    "    C = 2\n",
    "    success_rate = Experiment_Deterministic_consumption(C, d1, d2, r1, r2, random_seed, n_experiment)\n",
    "    print(f\"d={d} done\")\n",
    "    success_list[ii] = success_rate\n",
    "print(success_list)"
   ]
  },
  {
   "cell_type": "code",
   "execution_count": 5,
   "id": "9e20ee12",
   "metadata": {
    "execution": {
     "iopub.execute_input": "2023-01-04T09:27:44.748545Z",
     "iopub.status.busy": "2023-01-04T09:27:44.748147Z",
     "iopub.status.idle": "2023-01-04T09:27:44.752990Z",
     "shell.execute_reply": "2023-01-04T09:27:44.752167Z"
    },
    "hidden": true,
    "papermill": {
     "duration": 2.119436,
     "end_time": "2023-01-04T09:27:44.755219",
     "exception": false,
     "start_time": "2023-01-04T09:27:42.635783",
     "status": "completed"
    },
    "tags": []
   },
   "outputs": [],
   "source": [
    "np.save(\"./fail-d-d_list-deterministic.npy\", d_list)\n",
    "np.save(\"./fail-d-success-deterministic.npy\", success_list)"
   ]
  },
  {
   "cell_type": "code",
   "execution_count": 6,
   "id": "aee087df",
   "metadata": {
    "execution": {
     "iopub.execute_input": "2023-01-04T09:27:48.733963Z",
     "iopub.status.busy": "2023-01-04T09:27:48.733570Z",
     "iopub.status.idle": "2023-01-04T09:27:49.096764Z",
     "shell.execute_reply": "2023-01-04T09:27:49.095604Z"
    },
    "hidden": true,
    "papermill": {
     "duration": 2.361089,
     "end_time": "2023-01-04T09:27:49.099572",
     "exception": false,
     "start_time": "2023-01-04T09:27:46.738483",
     "status": "completed"
    },
    "tags": []
   },
   "outputs": [
    {
     "data": {
      "image/png": "[encoded data removed]",
      "text/plain": [
       "<Figure size 432x288 with 1 Axes>"
      ]
     },
     "metadata": {
      "needs_background": "light"
     },
     "output_type": "display_data"
    }
   ],
   "source": [
    "import matplotlib.pyplot as plt\n",
    "import numpy as np\n",
    "\n",
    "plt.figure()\n",
    "\n",
    "# d_list = np.load(\"./Numeric-Record/Check_FailureProb_Expression/fail-d-d_list.npy\")\n",
    "# success_list = np.load(\"./Numeric-Record/Check_FailureProb_Expression/fail-d-success.npy\")\n",
    "# index = 1-success_list >= 1e-6 # sift the available record\n",
    "# d_list = d_list[index]\n",
    "# success_list = success_list[index]\n",
    "# plt.plot(np.log(d_list), np.log(1-success_list), \"-*\", label=\"stochastic-uncorrelated\")\n",
    "\n",
    "# d_list = np.load(\"./Numeric-Record/Check_FailureProb_Expression/fail-d-d_list-deterministic.npy\")\n",
    "# success_list = np.load(\"./Numeric-Record/Check_FailureProb_Expression/fail-d-success-deterministic.npy\")\n",
    "index = 1-success_list >= 1e-6 # sift the available record\n",
    "d_list = d_list[index]\n",
    "success_list = success_list[index]\n",
    "plt.plot(-1/d_list, np.log(1-success_list), \"-*\", label=\"deterministic\")\n",
    "\n",
    "plt.xlabel(r\"$-\\frac{1}{d}$\")\n",
    "plt.ylabel(r\"$\\log \\mathbb{P}(failure)$\")\n",
    "plt.legend()\n",
    "plt.show()"
   ]
  },
  {
   "cell_type": "markdown",
   "id": "f15b69de",
   "metadata": {
    "papermill": {
     "duration": 2.06758,
     "end_time": "2023-01-04T09:27:53.080407",
     "exception": false,
     "start_time": "2023-01-04T09:27:51.012827",
     "status": "completed"
    },
    "tags": []
   },
   "source": [
    "# Plot the figure"
   ]
  },
  {
   "cell_type": "code",
   "execution_count": 3,
   "id": "6ec694b7",
   "metadata": {
    "execution": {
     "iopub.execute_input": "2023-01-04T09:27:57.083031Z",
     "iopub.status.busy": "2023-01-04T09:27:57.082637Z",
     "iopub.status.idle": "2023-01-04T09:27:57.346960Z",
     "shell.execute_reply": "2023-01-04T09:27:57.345703Z"
    },
    "papermill": {
     "duration": 2.344406,
     "end_time": "2023-01-04T09:27:57.349713",
     "exception": false,
     "start_time": "2023-01-04T09:27:55.005307",
     "status": "completed"
    },
    "tags": []
   },
   "outputs": [
    {
     "name": "stderr",
     "output_type": "stream",
     "text": [
      "The PostScript backend does not support transparency; partially transparent artists will be rendered opaque.\n"
     ]
    },
    {
     "data": {
      "image/png": "[encoded data removed]",
      "text/plain": [
       "<Figure size 640x480 with 1 Axes>"
      ]
     },
     "metadata": {},
     "output_type": "display_data"
    }
   ],
   "source": [
    "# plot the result\n",
    "%reset -f\n",
    "import matplotlib\n",
    "import matplotlib.pyplot as plt\n",
    "import numpy as np\n",
    "\n",
    "legend_fontsize = 15\n",
    "label_fontsize = 15\n",
    "axis_fontsize = 12\n",
    "\n",
    "matplotlib.rcParams['pdf.fonttype'] = 42\n",
    "matplotlib.rcParams['ps.fonttype'] = 42\n",
    "\n",
    "plt.figure()\n",
    "\n",
    "d_list = np.load(\"./fail-d-d_list.npy\")\n",
    "success_list = np.load(\"./fail-d-success.npy\")\n",
    "index = 1-success_list >= 0 # sift the available record\n",
    "d_list = d_list[index]\n",
    "success_list = success_list[index]\n",
    "plt.plot(-1/d_list, np.log(1-success_list), \"-*\", label=\"stochastic-uncorrelated\")\n",
    "\n",
    "d_list = np.load(\"./fail-d-d_list-deterministic.npy\")\n",
    "success_list = np.load(\"./fail-d-success-deterministic.npy\")\n",
    "index = 1-success_list >= 0 # sift the available record\n",
    "d_list = d_list[index]\n",
    "success_list = success_list[index]\n",
    "plt.plot(-1/d_list, np.log(1-success_list), \"-*\", label=\"deterministic\")\n",
    "# plt.plot(np.log(d_list), np.log(1-success_list), \"-*\", label=\"deterministic\")\n",
    "\n",
    "plt.xlabel(r\"$-\\frac{1}{d}$\", fontsize=label_fontsize)\n",
    "plt.ylabel(r\"$\\log \\mathbb{P}(failure)$\", fontsize=label_fontsize)\n",
    "plt.xticks(fontsize=axis_fontsize)\n",
    "plt.yticks(fontsize=axis_fontsize)\n",
    "plt.legend(fontsize=legend_fontsize)\n",
    "\n",
    "plt.savefig(\"./validate-formula-inverse_arithmetic_d.eps\", bbox_inches='tight')\n",
    "plt.show()"
   ]
  },
  {
   "cell_type": "code",
   "execution_count": null,
   "id": "82cea879",
   "metadata": {
    "papermill": {
     "duration": 1.986153,
     "end_time": "2023-01-04T09:28:01.323525",
     "exception": false,
     "start_time": "2023-01-04T09:27:59.337372",
     "status": "completed"
    },
    "tags": []
   },
   "outputs": [],
   "source": []
  }
 ],
 "metadata": {
  "kernelspec": {
   "display_name": "Python 3 (ipykernel)",
   "language": "python",
   "name": "python3"
  },
  "language_info": {
   "codemirror_mode": {
    "name": "ipython",
    "version": 3
   },
   "file_extension": ".py",
   "mimetype": "text/x-python",
   "name": "python",
   "nbconvert_exporter": "python",
   "pygments_lexer": "ipython3",
   "version": "3.11.3"
  },
  "papermill": {
   "default_parameters": {},
   "duration": 3431.215397,
   "end_time": "2023-01-04T09:28:04.022405",
   "environment_variables": {},
   "exception": null,
   "input_path": "__notebook__.ipynb",
   "output_path": "__notebook__.ipynb",
   "parameters": {},
   "start_time": "2023-01-04T08:30:52.807008",
   "version": "2.3.4"
  },
  "varInspector": {
   "cols": {
    "lenName": 16,
    "lenType": 16,
    "lenVar": 40
   },
   "kernels_config": {
    "python": {
     "delete_cmd_postfix": "",
     "delete_cmd_prefix": "del ",
     "library": "var_list.py",
     "varRefreshCmd": "print(var_dic_list())"
    },
    "r": {
     "delete_cmd_postfix": ") ",
     "delete_cmd_prefix": "rm(",
     "library": "var_list.r",
     "varRefreshCmd": "cat(var_dic_list()) "
    }
   },
   "types_to_exclude": [
    "module",
    "function",
    "builtin_function_or_method",
    "instance",
    "_Feature"
   ],
   "window_display": false
  }
 },
 "nbformat": 4,
 "nbformat_minor": 5
}
