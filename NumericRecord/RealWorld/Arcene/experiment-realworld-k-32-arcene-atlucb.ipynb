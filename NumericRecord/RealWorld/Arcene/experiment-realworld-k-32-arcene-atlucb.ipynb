{
 "cells": [
  {
   "cell_type": "code",
   "execution_count": 2,
   "id": "741099fe",
   "metadata": {
    "execution": {
     "iopub.execute_input": "2023-03-25T14:12:14.598033Z",
     "iopub.status.busy": "2023-03-25T14:12:14.597251Z",
     "iopub.status.idle": "2023-03-25T14:12:16.910661Z",
     "shell.execute_reply": "2023-03-25T14:12:16.909110Z"
    },
    "papermill": {
     "duration": 2.320327,
     "end_time": "2023-03-25T14:12:16.913555",
     "exception": false,
     "start_time": "2023-03-25T14:12:14.593228",
     "status": "completed"
    },
    "tags": []
   },
   "outputs": [
    {
     "name": "stdout",
     "output_type": "stream",
     "text": [
      "number of label -1 is 112\n",
      "number of label 1 is 88\n"
     ]
    }
   ],
   "source": [
    "import numpy as np\n",
    "import pandas as pd\n",
    "\n",
    "from agent import *\n",
    "from env import Env_Classifier_CrossEntropy_divide3plus1\n",
    "from utils import Experiment_Classiflier\n",
    "\n",
    "import os\n",
    "import warnings\n",
    "from sklearn.neighbors import KNeighborsClassifier  # https://scikit-learn.org/stable/modules/generated/sklearn.neighbors.KNeighborsClassifier.html\n",
    "from sklearn.linear_model import LogisticRegression  # https://scikit-learn.org/stable/modules/generated/sklearn.linear_model.LogisticRegression.html\n",
    "from sklearn.svm import SVC  # https://scikit-learn.org/stable/modules/generated/sklearn.svm.SVC.html\n",
    "from sklearn.ensemble import RandomForestClassifier  # https://scikit-learn.org/stable/modules/generated/sklearn.ensemble.RandomForestClassifier.html\n",
    "from sklearn.tree import DecisionTreeClassifier  # https://scikit-learn.org/stable/modules/generated/sklearn.tree.DecisionTreeClassifier.html\n",
    "from sklearn.ensemble import AdaBoostClassifier  # https://scikit-learn.org/stable/modules/generated/sklearn.ensemble.AdaBoostClassifier.html\n",
    "\n",
    "dataset_ = pd.read_csv(\"./Arcene.csv\")\n",
    "data = dataset_[dataset_.columns[:-1]].values\n",
    "target = dataset_[dataset_.columns[-1]].values\n",
    "dataset = dict()\n",
    "dataset[\"data\"] = data\n",
    "dataset[\"target\"] = target\n",
    "\n",
    "index = dataset[\"target\"]==-1\n",
    "print(f\"number of label -1 is {np.sum(index)}\")\n",
    "index = dataset[\"target\"]==1\n",
    "print(f\"number of label 1 is {np.sum(index)}\")"
   ]
  },
  {
   "cell_type": "code",
   "execution_count": 4,
   "id": "6b0fc181",
   "metadata": {
    "execution": {
     "iopub.execute_input": "2023-03-25T14:12:16.937207Z",
     "iopub.status.busy": "2023-03-25T14:12:16.936810Z",
     "iopub.status.idle": "2023-03-25T18:30:40.419534Z",
     "shell.execute_reply": "2023-03-25T18:30:40.418439Z"
    },
    "papermill": {
     "duration": 15503.498457,
     "end_time": "2023-03-25T18:30:40.430897",
     "exception": false,
     "start_time": "2023-03-25T14:12:16.932440",
     "status": "completed"
    },
    "tags": []
   },
   "outputs": [
    {
     "name": "stdout",
     "output_type": "stream",
     "text": [
      "Accepted best arm is 20\n"
     ]
    },
    {
     "name": "stderr",
     "output_type": "stream",
     "text": [
      "100%|██████████| 100/100 [4:18:23<00:00, 155.03s/it]"
     ]
    },
    {
     "name": "stdout",
     "output_type": "stream",
     "text": [
      "model AT_LUCB_Agent, success rate is 0.4, std is 0.04898979485566356\n"
     ]
    },
    {
     "name": "stderr",
     "output_type": "stream",
     "text": [
      "\n"
     ]
    }
   ],
   "source": [
    "# conduct experiment\n",
    "warnings.filterwarnings(\"ignore\")\n",
    "model_list = [\n",
    "    KNeighborsClassifier(n_neighbors=5),\n",
    "    KNeighborsClassifier(n_neighbors=15),\n",
    "    KNeighborsClassifier(n_neighbors=25),\n",
    "    KNeighborsClassifier(n_neighbors=35),\n",
    "    KNeighborsClassifier(n_neighbors=45),\n",
    "    KNeighborsClassifier(n_neighbors=55),\n",
    "    KNeighborsClassifier(n_neighbors=65),\n",
    "    KNeighborsClassifier(n_neighbors=75),\n",
    "    \n",
    "    LogisticRegression(penalty=\"l2\", fit_intercept=True, random_state=0, max_iter=100, C=1),\n",
    "    LogisticRegression(penalty=\"l2\", fit_intercept=True, random_state=0, max_iter=100, C=2),\n",
    "    LogisticRegression(penalty=\"l2\", fit_intercept=False, random_state=0, max_iter=100, C=1),\n",
    "    LogisticRegression(penalty=\"l2\", fit_intercept=False, random_state=0, max_iter=100, C=2),\n",
    "    LogisticRegression(penalty=\"none\", fit_intercept=True, random_state=0, max_iter=100, C=1),\n",
    "    LogisticRegression(penalty=\"none\", fit_intercept=True, random_state=0, max_iter=100, C=2),\n",
    "    LogisticRegression(penalty=\"none\", fit_intercept=False, random_state=0, max_iter=100, C=1),\n",
    "    LogisticRegression(penalty=\"none\", fit_intercept=False, random_state=0, max_iter=100, C=2),\n",
    "    \n",
    "    RandomForestClassifier(n_estimators=10, criterion=\"gini\", max_depth=5, random_state=0),\n",
    "    RandomForestClassifier(n_estimators=20, criterion=\"gini\", max_depth=5, random_state=0),\n",
    "    RandomForestClassifier(n_estimators=30, criterion=\"gini\", max_depth=5, random_state=0),\n",
    "    RandomForestClassifier(n_estimators=50, criterion=\"gini\", max_depth=5, random_state=0),\n",
    "    RandomForestClassifier(n_estimators=10, criterion=\"entropy\", max_depth=5, random_state=0),\n",
    "    RandomForestClassifier(n_estimators=20, criterion=\"entropy\", max_depth=5, random_state=0),\n",
    "    RandomForestClassifier(n_estimators=30, criterion=\"entropy\", max_depth=5, random_state=0),\n",
    "    RandomForestClassifier(n_estimators=50, criterion=\"entropy\", max_depth=5, random_state=0),\n",
    "    \n",
    "    AdaBoostClassifier(n_estimators=10, learning_rate=1.0, random_state=0),\n",
    "    AdaBoostClassifier(n_estimators=20, learning_rate=1.0, random_state=0),\n",
    "    AdaBoostClassifier(n_estimators=30, learning_rate=1.0, random_state=0),\n",
    "    AdaBoostClassifier(n_estimators=40, learning_rate=1.0, random_state=0),\n",
    "    AdaBoostClassifier(n_estimators=10, learning_rate=0.1, random_state=0),\n",
    "    AdaBoostClassifier(n_estimators=20, learning_rate=0.1, random_state=0),\n",
    "    AdaBoostClassifier(n_estimators=30, learning_rate=0.1, random_state=0),\n",
    "    AdaBoostClassifier(n_estimators=40, learning_rate=0.1, random_state=0),\n",
    "]\n",
    "Match_Index_to_Model = dict()\n",
    "for ii, model in enumerate(model_list):\n",
    "    Match_Index_to_Model[ii + 1] = model\n",
    "\n",
    "K = len(Match_Index_to_Model)\n",
    "C = np.array([150.0])\n",
    "L = len(C)\n",
    "env_class = Env_Classifier_CrossEntropy_divide3plus1\n",
    "\n",
    "agent_class_ = [\n",
    "    AT_LUCB_Agent, \n",
    "]\n",
    "agent_para = dict()\n",
    "n_experiment = 100\n",
    "n_ground_truth = 100\n",
    "random_seed = 0\n",
    "disable_tqdm = True\n",
    "shuffle = True\n",
    "best_arm = 20\n",
    "\n",
    "Experiment_Classiflier(\n",
    "    model_list=model_list,\n",
    "    best_arm=best_arm,\n",
    "    dataset=dataset,\n",
    "    env_class=env_class,\n",
    "    agent_class_list=agent_class_,\n",
    "    n_experiment=n_experiment,\n",
    "    K=K,\n",
    "    C=C,\n",
    "    L=L,\n",
    "    n_ground_truth=n_ground_truth,\n",
    "    shuffle=shuffle,\n",
    ")"
   ]
  },
  {
   "cell_type": "code",
   "execution_count": null,
   "id": "49aaa769",
   "metadata": {
    "papermill": {
     "duration": 0.009138,
     "end_time": "2023-03-25T18:30:40.448707",
     "exception": false,
     "start_time": "2023-03-25T18:30:40.439569",
     "status": "completed"
    },
    "tags": []
   },
   "outputs": [],
   "source": []
  }
 ],
 "metadata": {
  "kernelspec": {
   "display_name": "Python 3",
   "language": "python",
   "name": "python3"
  },
  "language_info": {
   "codemirror_mode": {
    "name": "ipython",
    "version": 3
   },
   "file_extension": ".py",
   "mimetype": "text/x-python",
   "name": "python",
   "nbconvert_exporter": "python",
   "pygments_lexer": "ipython3",
   "version": "3.8.8"
  },
  "papermill": {
   "default_parameters": {},
   "duration": 15517.009952,
   "end_time": "2023-03-25T18:30:41.216589",
   "environment_variables": {},
   "exception": null,
   "input_path": "__notebook__.ipynb",
   "output_path": "__notebook__.ipynb",
   "parameters": {},
   "start_time": "2023-03-25T14:12:04.206637",
   "version": "2.4.0"
  }
 },
 "nbformat": 4,
 "nbformat_minor": 5
}
