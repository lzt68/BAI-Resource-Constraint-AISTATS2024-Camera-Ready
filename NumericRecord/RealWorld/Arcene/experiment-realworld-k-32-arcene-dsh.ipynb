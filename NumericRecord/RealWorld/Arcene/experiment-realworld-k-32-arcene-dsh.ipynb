{
 "cells": [
  {
   "cell_type": "code",
   "execution_count": 2,
   "id": "5ff4d02c",
   "metadata": {
    "execution": {
     "iopub.execute_input": "2023-03-25T14:10:36.451531Z",
     "iopub.status.busy": "2023-03-25T14:10:36.451093Z",
     "iopub.status.idle": "2023-03-25T14:10:38.957991Z",
     "shell.execute_reply": "2023-03-25T14:10:38.956714Z"
    },
    "papermill": {
     "duration": 2.51405,
     "end_time": "2023-03-25T14:10:38.960981",
     "exception": false,
     "start_time": "2023-03-25T14:10:36.446931",
     "status": "completed"
    },
    "tags": []
   },
   "outputs": [],
   "source": [
    "import numpy as np\n",
    "import pandas as pd\n",
    "\n",
    "from agent import *\n",
    "from env import Env_Classifier_CrossEntropy_divide3plus1\n",
    "from utils import Experiment_Classiflier\n",
    "\n",
    "import os\n",
    "import warnings\n",
    "from sklearn.neighbors import KNeighborsClassifier  # https://scikit-learn.org/stable/modules/generated/sklearn.neighbors.KNeighborsClassifier.html\n",
    "from sklearn.linear_model import LogisticRegression  # https://scikit-learn.org/stable/modules/generated/sklearn.linear_model.LogisticRegression.html\n",
    "from sklearn.svm import SVC  # https://scikit-learn.org/stable/modules/generated/sklearn.svm.SVC.html\n",
    "from sklearn.ensemble import RandomForestClassifier  # https://scikit-learn.org/stable/modules/generated/sklearn.ensemble.RandomForestClassifier.html\n",
    "from sklearn.tree import DecisionTreeClassifier  # https://scikit-learn.org/stable/modules/generated/sklearn.tree.DecisionTreeClassifier.html\n",
    "from sklearn.ensemble import AdaBoostClassifier  # https://scikit-learn.org/stable/modules/generated/sklearn.ensemble.AdaBoostClassifier.html\n",
    "\n",
    "dataset_ = pd.read_csv(\"./Arcene.csv\")\n",
    "data = dataset_[dataset_.columns[:-1]].values\n",
    "target = dataset_[dataset_.columns[-1]].values\n",
    "dataset = dict()\n",
    "dataset[\"data\"] = data\n",
    "dataset[\"target\"] = target"
   ]
  },
  {
   "cell_type": "code",
   "execution_count": 4,
   "id": "e6541a33",
   "metadata": {
    "execution": {
     "iopub.execute_input": "2023-03-25T14:10:38.985479Z",
     "iopub.status.busy": "2023-03-25T14:10:38.984637Z",
     "iopub.status.idle": "2023-03-25T18:28:48.448576Z",
     "shell.execute_reply": "2023-03-25T18:28:48.447579Z"
    },
    "papermill": {
     "duration": 15489.481248,
     "end_time": "2023-03-25T18:28:48.461983",
     "exception": false,
     "start_time": "2023-03-25T14:10:38.980735",
     "status": "completed"
    },
    "tags": []
   },
   "outputs": [
    {
     "name": "stdout",
     "output_type": "stream",
     "text": [
      "Accepted best arm is 20\n"
     ]
    },
    {
     "name": "stderr",
     "output_type": "stream",
     "text": [
      "100%|██████████| 100/100 [4:18:09<00:00, 154.89s/it]"
     ]
    },
    {
     "name": "stdout",
     "output_type": "stream",
     "text": [
      "model DoublingSequentialHalving_Agent, success rate is 0.33, std is 0.04702127178203499\n"
     ]
    },
    {
     "name": "stderr",
     "output_type": "stream",
     "text": [
      "\n"
     ]
    }
   ],
   "source": [
    "# conduct experiment\n",
    "warnings.filterwarnings(\"ignore\")\n",
    "model_list = [\n",
    "    KNeighborsClassifier(n_neighbors=5),\n",
    "    KNeighborsClassifier(n_neighbors=15),\n",
    "    KNeighborsClassifier(n_neighbors=25),\n",
    "    KNeighborsClassifier(n_neighbors=35),\n",
    "    KNeighborsClassifier(n_neighbors=45),\n",
    "    KNeighborsClassifier(n_neighbors=55),\n",
    "    KNeighborsClassifier(n_neighbors=65),\n",
    "    KNeighborsClassifier(n_neighbors=75),\n",
    "    \n",
    "    LogisticRegression(penalty=\"l2\", fit_intercept=True, random_state=0, max_iter=100, C=1),\n",
    "    LogisticRegression(penalty=\"l2\", fit_intercept=True, random_state=0, max_iter=100, C=2),\n",
    "    LogisticRegression(penalty=\"l2\", fit_intercept=False, random_state=0, max_iter=100, C=1),\n",
    "    LogisticRegression(penalty=\"l2\", fit_intercept=False, random_state=0, max_iter=100, C=2),\n",
    "    LogisticRegression(penalty=\"none\", fit_intercept=True, random_state=0, max_iter=100, C=1),\n",
    "    LogisticRegression(penalty=\"none\", fit_intercept=True, random_state=0, max_iter=100, C=2),\n",
    "    LogisticRegression(penalty=\"none\", fit_intercept=False, random_state=0, max_iter=100, C=1),\n",
    "    LogisticRegression(penalty=\"none\", fit_intercept=False, random_state=0, max_iter=100, C=2),\n",
    "    \n",
    "    RandomForestClassifier(n_estimators=10, criterion=\"gini\", max_depth=5, random_state=0),\n",
    "    RandomForestClassifier(n_estimators=20, criterion=\"gini\", max_depth=5, random_state=0),\n",
    "    RandomForestClassifier(n_estimators=30, criterion=\"gini\", max_depth=5, random_state=0),\n",
    "    RandomForestClassifier(n_estimators=50, criterion=\"gini\", max_depth=5, random_state=0),\n",
    "    RandomForestClassifier(n_estimators=10, criterion=\"entropy\", max_depth=5, random_state=0),\n",
    "    RandomForestClassifier(n_estimators=20, criterion=\"entropy\", max_depth=5, random_state=0),\n",
    "    RandomForestClassifier(n_estimators=30, criterion=\"entropy\", max_depth=5, random_state=0),\n",
    "    RandomForestClassifier(n_estimators=50, criterion=\"entropy\", max_depth=5, random_state=0),\n",
    "    \n",
    "    AdaBoostClassifier(n_estimators=10, learning_rate=1.0, random_state=0),\n",
    "    AdaBoostClassifier(n_estimators=20, learning_rate=1.0, random_state=0),\n",
    "    AdaBoostClassifier(n_estimators=30, learning_rate=1.0, random_state=0),\n",
    "    AdaBoostClassifier(n_estimators=40, learning_rate=1.0, random_state=0),\n",
    "    AdaBoostClassifier(n_estimators=10, learning_rate=0.1, random_state=0),\n",
    "    AdaBoostClassifier(n_estimators=20, learning_rate=0.1, random_state=0),\n",
    "    AdaBoostClassifier(n_estimators=30, learning_rate=0.1, random_state=0),\n",
    "    AdaBoostClassifier(n_estimators=40, learning_rate=0.1, random_state=0),\n",
    "]\n",
    "Match_Index_to_Model = dict()\n",
    "for ii, model in enumerate(model_list):\n",
    "    Match_Index_to_Model[ii + 1] = model\n",
    "\n",
    "K = len(Match_Index_to_Model)\n",
    "C = np.array([150.0])\n",
    "L = len(C)\n",
    "env_class = Env_Classifier_CrossEntropy_divide3plus1\n",
    "\n",
    "agent_class_ = [\n",
    "    DoublingSequentialHalving_Agent,\n",
    "]\n",
    "agent_para = dict()\n",
    "n_experiment = 100\n",
    "n_ground_truth = 100\n",
    "random_seed = 0\n",
    "disable_tqdm = True\n",
    "shuffle = True\n",
    "best_arm = 20\n",
    "\n",
    "Experiment_Classiflier(\n",
    "    model_list=model_list,\n",
    "    best_arm=best_arm,\n",
    "    dataset=dataset,\n",
    "    env_class=env_class,\n",
    "    agent_class_list=agent_class_,\n",
    "    n_experiment=n_experiment,\n",
    "    K=K,\n",
    "    C=C,\n",
    "    L=L,\n",
    "    n_ground_truth=n_ground_truth,\n",
    "    shuffle=shuffle,\n",
    ")"
   ]
  },
  {
   "cell_type": "code",
   "execution_count": null,
   "id": "2c09e362",
   "metadata": {
    "papermill": {
     "duration": 0.008815,
     "end_time": "2023-03-25T18:28:48.479638",
     "exception": false,
     "start_time": "2023-03-25T18:28:48.470823",
     "status": "completed"
    },
    "tags": []
   },
   "outputs": [],
   "source": []
  }
 ],
 "metadata": {
  "kernelspec": {
   "display_name": "Python 3",
   "language": "python",
   "name": "python3"
  },
  "language_info": {
   "codemirror_mode": {
    "name": "ipython",
    "version": 3
   },
   "file_extension": ".py",
   "mimetype": "text/x-python",
   "name": "python",
   "nbconvert_exporter": "python",
   "pygments_lexer": "ipython3",
   "version": "3.8.8"
  },
  "papermill": {
   "default_parameters": {},
   "duration": 15503.465584,
   "end_time": "2023-03-25T18:28:49.344687",
   "environment_variables": {},
   "exception": null,
   "input_path": "__notebook__.ipynb",
   "output_path": "__notebook__.ipynb",
   "parameters": {},
   "start_time": "2023-03-25T14:10:25.879103",
   "version": "2.4.0"
  }
 },
 "nbformat": 4,
 "nbformat_minor": 5
}
