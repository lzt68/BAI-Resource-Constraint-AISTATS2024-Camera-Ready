{
 "cells": [
  {
   "cell_type": "code",
   "execution_count": 2,
   "id": "baa10641",
   "metadata": {
    "execution": {
     "iopub.execute_input": "2023-03-17T11:01:47.042103Z",
     "iopub.status.busy": "2023-03-17T11:01:47.041400Z",
     "iopub.status.idle": "2023-03-17T11:01:49.502319Z",
     "shell.execute_reply": "2023-03-17T11:01:49.500780Z"
    },
    "papermill": {
     "duration": 2.468503,
     "end_time": "2023-03-17T11:01:49.505916",
     "exception": false,
     "start_time": "2023-03-17T11:01:47.037413",
     "status": "completed"
    },
    "tags": []
   },
   "outputs": [
    {
     "name": "stdout",
     "output_type": "stream",
     "text": [
      "number of label 3 is 1086\n",
      "number of label 8 is 1017\n"
     ]
    }
   ],
   "source": [
    "import numpy as np\n",
    "import pandas as pd\n",
    "\n",
    "from agent import *\n",
    "from env import Env_Classifier_CrossEntropy\n",
    "from utils import Experiment_Classiflier\n",
    "\n",
    "import os\n",
    "import warnings\n",
    "from sklearn.neighbors import KNeighborsClassifier  # https://scikit-learn.org/stable/modules/generated/sklearn.neighbors.KNeighborsClassifier.html\n",
    "from sklearn.linear_model import LogisticRegression  # https://scikit-learn.org/stable/modules/generated/sklearn.linear_model.LogisticRegression.html\n",
    "from sklearn.svm import SVC  # https://scikit-learn.org/stable/modules/generated/sklearn.svm.SVC.html\n",
    "from sklearn.ensemble import RandomForestClassifier  # https://scikit-learn.org/stable/modules/generated/sklearn.ensemble.RandomForestClassifier.html\n",
    "from sklearn.tree import DecisionTreeClassifier  # https://scikit-learn.org/stable/modules/generated/sklearn.tree.DecisionTreeClassifier.html\n",
    "from sklearn.ensemble import AdaBoostClassifier  # https://scikit-learn.org/stable/modules/generated/sklearn.ensemble.AdaBoostClassifier.html\n",
    "\n",
    "mnist_dataset_3_8 = pd.read_csv(\"./mnist-train-3-8.csv\")\n",
    "mnist_dataset_3_8 = mnist_dataset_3_8[0:mnist_dataset_3_8.shape[0]//4]\n",
    "data = mnist_dataset_3_8[mnist_dataset_3_8.columns[1:]].values\n",
    "target = mnist_dataset_3_8[\"label\"].values\n",
    "dataset = dict()\n",
    "dataset[\"data\"] = data\n",
    "dataset[\"target\"] = target\n",
    "\n",
    "index = dataset[\"target\"]==3\n",
    "dataset[\"target\"][index] = 0\n",
    "print(f\"number of label 3 is {np.sum(index)}\")\n",
    "index = dataset[\"target\"]==8\n",
    "dataset[\"target\"][index] = 1\n",
    "print(f\"number of label 8 is {np.sum(index)}\")"
   ]
  },
  {
   "cell_type": "code",
   "execution_count": 5,
   "id": "a30451fc",
   "metadata": {
    "execution": {
     "iopub.execute_input": "2023-03-17T11:01:49.552398Z",
     "iopub.status.busy": "2023-03-17T11:01:49.551888Z",
     "iopub.status.idle": "2023-03-17T12:35:32.944602Z",
     "shell.execute_reply": "2023-03-17T12:35:32.942306Z"
    },
    "papermill": {
     "duration": 5623.401675,
     "end_time": "2023-03-17T12:35:32.948465",
     "exception": false,
     "start_time": "2023-03-17T11:01:49.546790",
     "status": "completed"
    },
    "tags": []
   },
   "outputs": [
    {
     "name": "stderr",
     "output_type": "stream",
     "text": [
      "100%|██████████| 500/500 [00:45<00:00, 11.10it/s]\n",
      "100%|██████████| 500/500 [00:46<00:00, 10.84it/s]\n",
      "100%|██████████| 500/500 [00:46<00:00, 10.79it/s]\n",
      "100%|██████████| 500/500 [00:46<00:00, 10.72it/s]\n",
      "100%|██████████| 500/500 [00:49<00:00, 10.20it/s]\n",
      "100%|██████████| 500/500 [00:51<00:00,  9.75it/s]\n",
      "100%|██████████| 500/500 [00:52<00:00,  9.56it/s]\n",
      "100%|██████████| 500/500 [00:52<00:00,  9.61it/s]\n",
      "100%|██████████| 500/500 [01:30<00:00,  5.53it/s]\n",
      "100%|██████████| 500/500 [01:33<00:00,  5.37it/s]\n",
      "100%|██████████| 500/500 [01:29<00:00,  5.57it/s]\n",
      "100%|██████████| 500/500 [01:31<00:00,  5.47it/s]\n",
      "100%|██████████| 500/500 [00:58<00:00,  8.53it/s]\n",
      "100%|██████████| 500/500 [00:57<00:00,  8.68it/s]\n",
      "100%|██████████| 500/500 [00:58<00:00,  8.48it/s]\n",
      "100%|██████████| 500/500 [00:57<00:00,  8.74it/s]\n",
      "100%|██████████| 500/500 [00:37<00:00, 13.29it/s]\n",
      "100%|██████████| 500/500 [01:07<00:00,  7.45it/s]\n",
      "100%|██████████| 500/500 [01:35<00:00,  5.22it/s]\n",
      "100%|██████████| 500/500 [02:34<00:00,  3.23it/s]\n",
      "100%|██████████| 500/500 [00:41<00:00, 11.93it/s]\n",
      "100%|██████████| 500/500 [01:12<00:00,  6.93it/s]\n",
      "100%|██████████| 500/500 [01:44<00:00,  4.77it/s]\n",
      "100%|██████████| 500/500 [02:47<00:00,  2.98it/s]\n",
      "100%|██████████| 500/500 [03:22<00:00,  2.46it/s]\n",
      "100%|██████████| 500/500 [06:23<00:00,  1.30it/s]\n",
      "100%|██████████| 500/500 [10:00<00:00,  1.20s/it]\n",
      "100%|██████████| 500/500 [12:49<00:00,  1.54s/it]\n",
      "100%|██████████| 500/500 [03:21<00:00,  2.49it/s]\n",
      "100%|██████████| 500/500 [06:21<00:00,  1.31it/s]\n",
      "100%|██████████| 500/500 [09:58<00:00,  1.20s/it]\n",
      "100%|██████████| 500/500 [12:36<00:00,  1.51s/it]"
     ]
    },
    {
     "name": "stdout",
     "output_type": "stream",
     "text": [
      "best arm is 2, best model is KNeighborsClassifier(n_neighbors=15)\n",
      "KNeighborsClassifier(), entropy 0.1837041642931709, running time 0.06561910915374757\n",
      "KNeighborsClassifier(n_neighbors=15), entropy 0.10503985055627499, running time 0.06835254383087158\n",
      "KNeighborsClassifier(n_neighbors=25), entropy 0.11485629153777194, running time 0.0688281626701355\n",
      "KNeighborsClassifier(n_neighbors=35), entropy 0.1296782155080673, running time 0.07092141914367676\n",
      "KNeighborsClassifier(n_neighbors=45), entropy 0.14110107640672898, running time 0.07319995641708374\n",
      "KNeighborsClassifier(n_neighbors=55), entropy 0.15225645238830954, running time 0.07696837854385376\n",
      "KNeighborsClassifier(n_neighbors=65), entropy 0.16139769517910485, running time 0.077932626247406\n",
      "KNeighborsClassifier(n_neighbors=75), entropy 0.17108689239767189, running time 0.07909664201736451\n",
      "LogisticRegression(C=1, random_state=0), entropy 0.774909640149267, running time 0.15779634141921997\n",
      "LogisticRegression(C=2, random_state=0), entropy 0.8293434417751906, running time 0.1608999342918396\n",
      "LogisticRegression(C=1, fit_intercept=False, random_state=0), entropy 0.7777581551360306, running time 0.1554505181312561\n",
      "LogisticRegression(C=2, fit_intercept=False, random_state=0), entropy 0.8192637227192062, running time 0.15788352727890015\n",
      "LogisticRegression(C=1, penalty='none', random_state=0), entropy 1.5378602022979024, running time 0.09179034566879272\n",
      "LogisticRegression(C=2, penalty='none', random_state=0), entropy 1.548931122867165, running time 0.08975026893615723\n",
      "LogisticRegression(C=1, fit_intercept=False, penalty='none', random_state=0), entropy 1.534397483995496, running time 0.0915360803604126\n",
      "LogisticRegression(C=2, fit_intercept=False, penalty='none', random_state=0), entropy 1.5378264350714614, running time 0.08896525049209594\n",
      "RandomForestClassifier(max_depth=5, n_estimators=10, random_state=0), entropy 0.19904088251788, running time 0.0616221227645874\n",
      "RandomForestClassifier(max_depth=5, n_estimators=20, random_state=0), entropy 0.20257821157572328, running time 0.1188046793937683\n",
      "RandomForestClassifier(max_depth=5, n_estimators=30, random_state=0), entropy 0.2029460215037688, running time 0.17593705892562866\n",
      "RandomForestClassifier(max_depth=5, n_estimators=50, random_state=0), entropy 0.19992067873114927, running time 0.29372014141082764\n",
      "RandomForestClassifier(criterion='entropy', max_depth=5, n_estimators=10,\n",
      "                       random_state=0), entropy 0.19777630474659955, running time 0.06909093904495239\n",
      "RandomForestClassifier(criterion='entropy', max_depth=5, n_estimators=20,\n",
      "                       random_state=0), entropy 0.2018882638717814, running time 0.12959354734420778\n",
      "RandomForestClassifier(criterion='entropy', max_depth=5, n_estimators=30,\n",
      "                       random_state=0), entropy 0.2016281226651278, running time 0.194503399848938\n",
      "RandomForestClassifier(criterion='entropy', max_depth=5, n_estimators=50,\n",
      "                       random_state=0), entropy 0.1998205488160175, running time 0.32060018730163575\n",
      "AdaBoostClassifier(n_estimators=10, random_state=0), entropy 0.525924085837426, running time 0.38990953207015994\n",
      "AdaBoostClassifier(n_estimators=20, random_state=0), entropy 0.5688641115387061, running time 0.7520118713378906\n",
      "AdaBoostClassifier(n_estimators=30, random_state=0), entropy 0.5866944958661575, running time 1.1853368167877196\n",
      "AdaBoostClassifier(n_estimators=40, random_state=0), entropy 0.5975396691044689, running time 1.5243418502807617\n",
      "AdaBoostClassifier(learning_rate=0.1, n_estimators=10, random_state=0), entropy 0.39341725204530115, running time 0.3869461808204651\n",
      "AdaBoostClassifier(learning_rate=0.1, n_estimators=20, random_state=0), entropy 0.4311564477372759, running time 0.7489740595817566\n",
      "AdaBoostClassifier(learning_rate=0.1, n_estimators=30, random_state=0), entropy 0.461667958125763, running time 1.180254520893097\n",
      "AdaBoostClassifier(learning_rate=0.1, n_estimators=40, random_state=0), entropy 0.4848896322510949, running time 1.498490707397461\n",
      "10.605128719806672\n"
     ]
    },
    {
     "name": "stderr",
     "output_type": "stream",
     "text": [
      "\n"
     ]
    },
    {
     "data": {
      "text/plain": [
       "'\\n'"
      ]
     },
     "execution_count": 5,
     "metadata": {},
     "output_type": "execute_result"
    }
   ],
   "source": [
    "# cell for quickly testing model\n",
    "from tqdm import tqdm\n",
    "from sklearn.model_selection import train_test_split\n",
    "import time\n",
    "from sklearn.metrics import accuracy_score, log_loss\n",
    "from sklearn.base import clone\n",
    "\n",
    "warnings.filterwarnings(\"ignore\")\n",
    "model_list = [\n",
    "    KNeighborsClassifier(n_neighbors=5),\n",
    "    KNeighborsClassifier(n_neighbors=15),\n",
    "    KNeighborsClassifier(n_neighbors=25),\n",
    "    KNeighborsClassifier(n_neighbors=35),\n",
    "    KNeighborsClassifier(n_neighbors=45),\n",
    "    KNeighborsClassifier(n_neighbors=55),\n",
    "    KNeighborsClassifier(n_neighbors=65),\n",
    "    KNeighborsClassifier(n_neighbors=75),\n",
    "    \n",
    "    LogisticRegression(penalty=\"l2\", fit_intercept=True, random_state=0, max_iter=100, C=1),\n",
    "    LogisticRegression(penalty=\"l2\", fit_intercept=True, random_state=0, max_iter=100, C=2),\n",
    "    LogisticRegression(penalty=\"l2\", fit_intercept=False, random_state=0, max_iter=100, C=1),\n",
    "    LogisticRegression(penalty=\"l2\", fit_intercept=False, random_state=0, max_iter=100, C=2),\n",
    "    LogisticRegression(penalty=\"none\", fit_intercept=True, random_state=0, max_iter=100, C=1),\n",
    "    LogisticRegression(penalty=\"none\", fit_intercept=True, random_state=0, max_iter=100, C=2),\n",
    "    LogisticRegression(penalty=\"none\", fit_intercept=False, random_state=0, max_iter=100, C=1),\n",
    "    LogisticRegression(penalty=\"none\", fit_intercept=False, random_state=0, max_iter=100, C=2),\n",
    "    \n",
    "    RandomForestClassifier(n_estimators=10, criterion=\"gini\", max_depth=5, random_state=0),\n",
    "    RandomForestClassifier(n_estimators=20, criterion=\"gini\", max_depth=5, random_state=0),\n",
    "    RandomForestClassifier(n_estimators=30, criterion=\"gini\", max_depth=5, random_state=0),\n",
    "    RandomForestClassifier(n_estimators=50, criterion=\"gini\", max_depth=5, random_state=0),\n",
    "    RandomForestClassifier(n_estimators=10, criterion=\"entropy\", max_depth=5, random_state=0),\n",
    "    RandomForestClassifier(n_estimators=20, criterion=\"entropy\", max_depth=5, random_state=0),\n",
    "    RandomForestClassifier(n_estimators=30, criterion=\"entropy\", max_depth=5, random_state=0),\n",
    "    RandomForestClassifier(n_estimators=50, criterion=\"entropy\", max_depth=5, random_state=0),\n",
    "    \n",
    "    AdaBoostClassifier(n_estimators=10, learning_rate=1.0, random_state=0),\n",
    "    AdaBoostClassifier(n_estimators=20, learning_rate=1.0, random_state=0),\n",
    "    AdaBoostClassifier(n_estimators=30, learning_rate=1.0, random_state=0),\n",
    "    AdaBoostClassifier(n_estimators=40, learning_rate=1.0, random_state=0),\n",
    "    AdaBoostClassifier(n_estimators=10, learning_rate=0.1, random_state=0),\n",
    "    AdaBoostClassifier(n_estimators=20, learning_rate=0.1, random_state=0),\n",
    "    AdaBoostClassifier(n_estimators=30, learning_rate=0.1, random_state=0),\n",
    "    AdaBoostClassifier(n_estimators=40, learning_rate=0.1, random_state=0),\n",
    "]\n",
    "\n",
    "def GetBestArm(model_list, n_ground_truth, dataset):\n",
    "    Match_Index_to_Model = dict()\n",
    "    for ii, model in enumerate(model_list):\n",
    "        Match_Index_to_Model[ii + 1] = model\n",
    "    cross_entropy_ = np.zeros((len(Match_Index_to_Model), n_ground_truth))\n",
    "    running_time_ = np.zeros((len(Match_Index_to_Model), n_ground_truth))\n",
    "    for arm_index in range(1, len(Match_Index_to_Model) + 1):\n",
    "        for exp_index in tqdm(range(n_ground_truth)):\n",
    "            # split the dataset with different random seed\n",
    "            new_random_state = np.random.randint(0, 2**31 - 1)\n",
    "            X_train, X_test, Y_train, Y_test = train_test_split(dataset[\"data\"], dataset[\"target\"], test_size=0.3, random_state=new_random_state)\n",
    "\n",
    "            t1 = time.time()\n",
    "            model = clone(Match_Index_to_Model[arm_index])\n",
    "            model.fit(X_train, Y_train)\n",
    "            y_test_predict_proba = model.predict_proba(X_test)\n",
    "            t2 = time.time()\n",
    "            \n",
    "            cross_entropy_[arm_index - 1, exp_index] = -log_loss(Y_test, y_test_predict_proba)\n",
    "            running_time_[arm_index - 1, exp_index] = t2 - t1\n",
    "            \n",
    "    cross_entropy_mean_ = np.mean(cross_entropy_, axis=1)\n",
    "    running_time_mean_ = np.mean(running_time_, axis=1)\n",
    "    best_arm = np.argmax(cross_entropy_mean_) + 1\n",
    "    print(f\"best arm is {best_arm}, best model is {model_list[best_arm-1].__str__()}\")\n",
    "    for ii, model in enumerate(model_list):\n",
    "        print(f\"{model.__str__()}, entropy {-cross_entropy_mean_[ii]}, running time {running_time_mean_[ii]}\")\n",
    "    return best_arm, Match_Index_to_Model, cross_entropy_, running_time_\n",
    "\n",
    "best_arm, Match_Index_to_Model, cross_entropy_, running_time_ = GetBestArm(\n",
    "    model_list=model_list, \n",
    "    n_ground_truth=500, \n",
    "    dataset=dataset\n",
    ")\n",
    "print(np.sum(np.mean(running_time_, axis=1)))\n",
    "\n",
    "\"\"\"\n",
    "\"\"\""
   ]
  },
  {
   "cell_type": "code",
   "execution_count": null,
   "id": "3ef913cc",
   "metadata": {
    "papermill": {
     "duration": 0.882046,
     "end_time": "2023-03-17T12:35:34.805251",
     "exception": false,
     "start_time": "2023-03-17T12:35:33.923205",
     "status": "completed"
    },
    "tags": []
   },
   "outputs": [],
   "source": []
  }
 ],
 "metadata": {
  "kernelspec": {
   "display_name": "Python 3",
   "language": "python",
   "name": "python3"
  },
  "language_info": {
   "codemirror_mode": {
    "name": "ipython",
    "version": 3
   },
   "file_extension": ".py",
   "mimetype": "text/x-python",
   "name": "python",
   "nbconvert_exporter": "python",
   "pygments_lexer": "ipython3",
   "version": "3.8.8"
  },
  "papermill": {
   "default_parameters": {},
   "duration": 5640.322546,
   "end_time": "2023-03-17T12:35:36.606588",
   "environment_variables": {},
   "exception": null,
   "input_path": "__notebook__.ipynb",
   "output_path": "__notebook__.ipynb",
   "parameters": {},
   "start_time": "2023-03-17T11:01:36.284042",
   "version": "2.4.0"
  }
 },
 "nbformat": 4,
 "nbformat_minor": 5
}
