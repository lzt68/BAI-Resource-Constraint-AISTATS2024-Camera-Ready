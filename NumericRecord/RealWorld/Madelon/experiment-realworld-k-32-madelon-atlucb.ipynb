{
 "cells": [
  {
   "cell_type": "code",
   "execution_count": 1,
   "id": "51602490",
   "metadata": {
    "_cell_guid": "b1076dfc-b9ad-4769-8c92-a6c4dae69d19",
    "_uuid": "8f2839f25d086af736a60e9eeb907d3b93b6e0e5",
    "execution": {
     "iopub.execute_input": "2023-03-18T16:29:06.136899Z",
     "iopub.status.busy": "2023-03-18T16:29:06.135900Z",
     "iopub.status.idle": "2023-03-18T16:29:06.149343Z",
     "shell.execute_reply": "2023-03-18T16:29:06.147570Z"
    },
    "papermill": {
     "duration": 0.021418,
     "end_time": "2023-03-18T16:29:06.152184",
     "exception": false,
     "start_time": "2023-03-18T16:29:06.130766",
     "status": "completed"
    },
    "tags": []
   },
   "outputs": [
    {
     "name": "stdout",
     "output_type": "stream",
     "text": [
      "/kaggle/input/bai-realworld\n"
     ]
    }
   ],
   "source": [
    "cd /kaggle/input/bai-realworld"
   ]
  },
  {
   "cell_type": "code",
   "execution_count": 2,
   "id": "836d8a5b",
   "metadata": {
    "execution": {
     "iopub.execute_input": "2023-03-18T16:29:06.159840Z",
     "iopub.status.busy": "2023-03-18T16:29:06.158918Z",
     "iopub.status.idle": "2023-03-18T16:29:07.846128Z",
     "shell.execute_reply": "2023-03-18T16:29:07.843869Z"
    },
    "papermill": {
     "duration": 1.695007,
     "end_time": "2023-03-18T16:29:07.849993",
     "exception": false,
     "start_time": "2023-03-18T16:29:06.154986",
     "status": "completed"
    },
    "tags": []
   },
   "outputs": [
    {
     "name": "stdout",
     "output_type": "stream",
     "text": [
      "number of label -1 is 1000\n",
      "number of label 1 is 1000\n"
     ]
    }
   ],
   "source": [
    "import numpy as np\n",
    "import pandas as pd\n",
    "\n",
    "from agent import *\n",
    "# from env import Env_Classifier_CrossEntropy\n",
    "from env import Env_Classifier_CrossEntropy_divide3plus1\n",
    "from utils import Experiment_Classiflier\n",
    "\n",
    "import os\n",
    "import warnings\n",
    "from sklearn.neighbors import KNeighborsClassifier  # https://scikit-learn.org/stable/modules/generated/sklearn.neighbors.KNeighborsClassifier.html\n",
    "from sklearn.linear_model import LogisticRegression  # https://scikit-learn.org/stable/modules/generated/sklearn.linear_model.LogisticRegression.html\n",
    "from sklearn.svm import SVC  # https://scikit-learn.org/stable/modules/generated/sklearn.svm.SVC.html\n",
    "from sklearn.ensemble import RandomForestClassifier  # https://scikit-learn.org/stable/modules/generated/sklearn.ensemble.RandomForestClassifier.html\n",
    "from sklearn.tree import DecisionTreeClassifier  # https://scikit-learn.org/stable/modules/generated/sklearn.tree.DecisionTreeClassifier.html\n",
    "from sklearn.ensemble import AdaBoostClassifier  # https://scikit-learn.org/stable/modules/generated/sklearn.ensemble.AdaBoostClassifier.html\n",
    "\n",
    "madelon = pd.read_csv(\"./madelon.csv\")\n",
    "data = madelon[madelon.columns[:-1]].values\n",
    "target = madelon[madelon.columns[-1]].values\n",
    "dataset = dict()\n",
    "dataset[\"data\"] = data\n",
    "dataset[\"target\"] = target\n",
    "\n",
    "index = dataset[\"target\"]==-1\n",
    "print(f\"number of label -1 is {np.sum(index)}\")\n",
    "index = dataset[\"target\"]==1\n",
    "print(f\"number of label 1 is {np.sum(index)}\")"
   ]
  },
  {
   "cell_type": "code",
   "execution_count": 3,
   "id": "bb81955e",
   "metadata": {
    "execution": {
     "iopub.execute_input": "2023-03-18T16:29:07.857596Z",
     "iopub.status.busy": "2023-03-18T16:29:07.856782Z",
     "iopub.status.idle": "2023-03-18T16:29:07.863912Z",
     "shell.execute_reply": "2023-03-18T16:29:07.862295Z"
    },
    "papermill": {
     "duration": 0.01338,
     "end_time": "2023-03-18T16:29:07.866247",
     "exception": false,
     "start_time": "2023-03-18T16:29:07.852867",
     "status": "completed"
    },
    "tags": []
   },
   "outputs": [
    {
     "name": "stdout",
     "output_type": "stream",
     "text": [
      "/kaggle/working\n"
     ]
    }
   ],
   "source": [
    "cd /kaggle/working/"
   ]
  },
  {
   "cell_type": "code",
   "execution_count": 4,
   "id": "a5466faf",
   "metadata": {
    "execution": {
     "iopub.execute_input": "2023-03-18T16:29:07.873412Z",
     "iopub.status.busy": "2023-03-18T16:29:07.873020Z",
     "iopub.status.idle": "2023-03-18T18:46:37.956529Z",
     "shell.execute_reply": "2023-03-18T18:46:37.955342Z"
    },
    "papermill": {
     "duration": 8250.100831,
     "end_time": "2023-03-18T18:46:37.969744",
     "exception": false,
     "start_time": "2023-03-18T16:29:07.868913",
     "status": "completed"
    },
    "tags": []
   },
   "outputs": [
    {
     "name": "stdout",
     "output_type": "stream",
     "text": [
      "Accepted best arm is 2\n"
     ]
    },
    {
     "name": "stderr",
     "output_type": "stream",
     "text": [
      "100%|██████████| 100/100 [2:17:30<00:00, 82.50s/it]"
     ]
    },
    {
     "name": "stdout",
     "output_type": "stream",
     "text": [
      "model AT_LUCB_Agent, success rate is 0.58, std is 0.04935585071701227\n"
     ]
    },
    {
     "name": "stderr",
     "output_type": "stream",
     "text": [
      "\n"
     ]
    }
   ],
   "source": [
    "# conduct experiment\n",
    "warnings.filterwarnings(\"ignore\")\n",
    "model_list = [\n",
    "    KNeighborsClassifier(n_neighbors=5),\n",
    "    KNeighborsClassifier(n_neighbors=15),\n",
    "    KNeighborsClassifier(n_neighbors=25),\n",
    "    KNeighborsClassifier(n_neighbors=35),\n",
    "    KNeighborsClassifier(n_neighbors=45),\n",
    "    KNeighborsClassifier(n_neighbors=55),\n",
    "    KNeighborsClassifier(n_neighbors=65),\n",
    "    KNeighborsClassifier(n_neighbors=75),\n",
    "    \n",
    "    # SVC(kernel=\"linear\", random_state=0),\n",
    "#     SVC(kernel=\"poly\", random_state=0, probability=True),\n",
    "#     SVC(kernel=\"rbf\", random_state=0, probability=True),\n",
    "#     LogisticRegression(penalty=\"l1\", fit_intercept=True, solver=\"liblinear\", random_state=0),\n",
    "#     LogisticRegression(penalty=\"l2\", fit_intercept=True, random_state=0),\n",
    "#     LogisticRegression(penalty=\"none\", fit_intercept=True, random_state=0),\n",
    "    \n",
    "#     DecisionTreeClassifier(criterion=\"gini\", random_state=0),\n",
    "#     DecisionTreeClassifier(criterion=\"entropy\", random_state=0),\n",
    "#     DecisionTreeClassifier(criterion=\"gini\", random_state=0, max_depth=15),\n",
    "#     DecisionTreeClassifier(criterion=\"entropy\", random_state=0, max_depth=20), \n",
    "    \n",
    "    LogisticRegression(penalty=\"l2\", fit_intercept=True, random_state=0, max_iter=100, C=1),\n",
    "    LogisticRegression(penalty=\"l2\", fit_intercept=True, random_state=0, max_iter=100, C=2),\n",
    "    LogisticRegression(penalty=\"l2\", fit_intercept=False, random_state=0, max_iter=100, C=1),\n",
    "    LogisticRegression(penalty=\"l2\", fit_intercept=False, random_state=0, max_iter=100, C=2),\n",
    "    LogisticRegression(penalty=\"none\", fit_intercept=True, random_state=0, max_iter=100, C=1),\n",
    "    LogisticRegression(penalty=\"none\", fit_intercept=True, random_state=0, max_iter=100, C=2),\n",
    "    LogisticRegression(penalty=\"none\", fit_intercept=False, random_state=0, max_iter=100, C=1),\n",
    "    LogisticRegression(penalty=\"none\", fit_intercept=False, random_state=0, max_iter=100, C=2),\n",
    "    \n",
    "    RandomForestClassifier(n_estimators=10, criterion=\"gini\", max_depth=5, random_state=0),\n",
    "    RandomForestClassifier(n_estimators=20, criterion=\"gini\", max_depth=5, random_state=0),\n",
    "    RandomForestClassifier(n_estimators=30, criterion=\"gini\", max_depth=5, random_state=0),\n",
    "    RandomForestClassifier(n_estimators=50, criterion=\"gini\", max_depth=5, random_state=0),\n",
    "    RandomForestClassifier(n_estimators=10, criterion=\"entropy\", max_depth=5, random_state=0),\n",
    "    RandomForestClassifier(n_estimators=20, criterion=\"entropy\", max_depth=5, random_state=0),\n",
    "    RandomForestClassifier(n_estimators=30, criterion=\"entropy\", max_depth=5, random_state=0),\n",
    "    RandomForestClassifier(n_estimators=50, criterion=\"entropy\", max_depth=5, random_state=0),\n",
    "    \n",
    "    AdaBoostClassifier(n_estimators=10, learning_rate=1.0, random_state=0),\n",
    "    AdaBoostClassifier(n_estimators=20, learning_rate=1.0, random_state=0),\n",
    "    AdaBoostClassifier(n_estimators=30, learning_rate=1.0, random_state=0),\n",
    "    AdaBoostClassifier(n_estimators=40, learning_rate=1.0, random_state=0),\n",
    "    AdaBoostClassifier(n_estimators=10, learning_rate=0.1, random_state=0),\n",
    "    AdaBoostClassifier(n_estimators=20, learning_rate=0.1, random_state=0),\n",
    "    AdaBoostClassifier(n_estimators=30, learning_rate=0.1, random_state=0),\n",
    "    AdaBoostClassifier(n_estimators=40, learning_rate=0.1, random_state=0),\n",
    "]\n",
    "Match_Index_to_Model = dict()\n",
    "for ii, model in enumerate(model_list):\n",
    "    Match_Index_to_Model[ii + 1] = model\n",
    "\n",
    "K = len(Match_Index_to_Model)\n",
    "C = np.array([80.0])\n",
    "L = len(C)\n",
    "# env_class = Env_Classifier_CrossEntropy\n",
    "env_class = Env_Classifier_CrossEntropy_divide3plus1\n",
    "\n",
    "# agent_class = UCB_Agent\n",
    "# agent_class = SequentialHalvingRR_Recycle_FailureFlag_Agent\n",
    "agent_class_ = [\n",
    "#     SequentialHalvingRR_Recycle_FailureFlag_Agent, \n",
    "    # SequentialHalvingRR_Recycle_alpha_Agent,\n",
    "    AT_LUCB_Agent, \n",
    "#     UCB_Agent, \n",
    "#     Uniform_Agent,\n",
    "#     DoublingSequentialHalving_Agent,\n",
    "]\n",
    "agent_para = dict()\n",
    "n_experiment = 100\n",
    "n_ground_truth = 100\n",
    "random_seed = 0\n",
    "disable_tqdm = True\n",
    "shuffle = True\n",
    "best_arm = 2\n",
    "\n",
    "Experiment_Classiflier(\n",
    "    model_list=model_list,\n",
    "    best_arm=best_arm,\n",
    "    dataset=dataset,\n",
    "    env_class=env_class,\n",
    "    agent_class_list=agent_class_,\n",
    "    n_experiment=n_experiment,\n",
    "    K=K,\n",
    "    C=C,\n",
    "    L=L,\n",
    "    n_ground_truth=n_ground_truth,\n",
    "    shuffle=shuffle,\n",
    ")"
   ]
  },
  {
   "cell_type": "code",
   "execution_count": null,
   "id": "ca7992bd",
   "metadata": {
    "papermill": {
     "duration": 0.008785,
     "end_time": "2023-03-18T18:46:37.987713",
     "exception": false,
     "start_time": "2023-03-18T18:46:37.978928",
     "status": "completed"
    },
    "tags": []
   },
   "outputs": [],
   "source": []
  }
 ],
 "metadata": {
  "kernelspec": {
   "display_name": "Python 3",
   "language": "python",
   "name": "python3"
  },
  "language_info": {
   "codemirror_mode": {
    "name": "ipython",
    "version": 3
   },
   "file_extension": ".py",
   "mimetype": "text/x-python",
   "name": "python",
   "nbconvert_exporter": "python",
   "pygments_lexer": "ipython3",
   "version": "3.7.12"
  },
  "papermill": {
   "default_parameters": {},
   "duration": 8264.451815,
   "end_time": "2023-03-18T18:46:38.839021",
   "environment_variables": {},
   "exception": null,
   "input_path": "__notebook__.ipynb",
   "output_path": "__notebook__.ipynb",
   "parameters": {},
   "start_time": "2023-03-18T16:28:54.387206",
   "version": "2.4.0"
  }
 },
 "nbformat": 4,
 "nbformat_minor": 5
}
