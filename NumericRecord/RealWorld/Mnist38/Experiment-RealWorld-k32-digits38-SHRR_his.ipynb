{
 "cells": [
  {
   "cell_type": "code",
   "execution_count": 2,
   "id": "149958bd",
   "metadata": {
    "execution": {
     "iopub.execute_input": "2023-03-27T12:42:22.838298Z",
     "iopub.status.busy": "2023-03-27T12:42:22.837579Z",
     "iopub.status.idle": "2023-03-27T12:42:24.825628Z",
     "shell.execute_reply": "2023-03-27T12:42:24.824479Z"
    },
    "papermill": {
     "duration": 1.993538,
     "end_time": "2023-03-27T12:42:24.827889",
     "exception": false,
     "start_time": "2023-03-27T12:42:22.834351",
     "status": "completed"
    },
    "tags": []
   },
   "outputs": [
    {
     "name": "stdout",
     "output_type": "stream",
     "text": [
      "number of label 3 is 1086\n",
      "number of label 8 is 1017\n"
     ]
    }
   ],
   "source": [
    "import numpy as np\n",
    "import pandas as pd\n",
    "\n",
    "from agent import *\n",
    "# from env import Env_Classifier_CrossEntropy\n",
    "from env import Env_Classifier_CrossEntropy_divide3plus1\n",
    "from utils import Experiment_Classiflier\n",
    "\n",
    "import os\n",
    "import warnings\n",
    "from sklearn.neighbors import KNeighborsClassifier  # https://scikit-learn.org/stable/modules/generated/sklearn.neighbors.KNeighborsClassifier.html\n",
    "from sklearn.linear_model import LogisticRegression  # https://scikit-learn.org/stable/modules/generated/sklearn.linear_model.LogisticRegression.html\n",
    "from sklearn.svm import SVC  # https://scikit-learn.org/stable/modules/generated/sklearn.svm.SVC.html\n",
    "from sklearn.ensemble import RandomForestClassifier  # https://scikit-learn.org/stable/modules/generated/sklearn.ensemble.RandomForestClassifier.html\n",
    "from sklearn.tree import DecisionTreeClassifier  # https://scikit-learn.org/stable/modules/generated/sklearn.tree.DecisionTreeClassifier.html\n",
    "from sklearn.ensemble import AdaBoostClassifier  # https://scikit-learn.org/stable/modules/generated/sklearn.ensemble.AdaBoostClassifier.html\n",
    "\n",
    "mnist_dataset_3_8 = pd.read_csv(\"./mnist-train-3-8.csv\")\n",
    "mnist_dataset_3_8 = mnist_dataset_3_8[0:mnist_dataset_3_8.shape[0]//4]\n",
    "data = mnist_dataset_3_8[mnist_dataset_3_8.columns[1:]].values\n",
    "target = mnist_dataset_3_8[\"label\"].values\n",
    "dataset = dict()\n",
    "dataset[\"data\"] = data\n",
    "dataset[\"target\"] = target\n",
    "\n",
    "index = dataset[\"target\"]==3\n",
    "dataset[\"target\"][index] = 0\n",
    "print(f\"number of label 3 is {np.sum(index)}\")\n",
    "index = dataset[\"target\"]==8\n",
    "dataset[\"target\"][index] = 1\n",
    "print(f\"number of label 8 is {np.sum(index)}\")"
   ]
  },
  {
   "cell_type": "code",
   "execution_count": 4,
   "id": "2ac0c6fb",
   "metadata": {
    "execution": {
     "iopub.execute_input": "2023-03-27T12:42:24.848515Z",
     "iopub.status.busy": "2023-03-27T12:42:24.848210Z",
     "iopub.status.idle": "2023-03-27T14:39:35.165205Z",
     "shell.execute_reply": "2023-03-27T14:39:35.163631Z"
    },
    "papermill": {
     "duration": 7030.347594,
     "end_time": "2023-03-27T14:39:35.192135",
     "exception": false,
     "start_time": "2023-03-27T12:42:24.844541",
     "status": "completed"
    },
    "tags": []
   },
   "outputs": [
    {
     "name": "stdout",
     "output_type": "stream",
     "text": [
      "Accepted best arm is 2\n"
     ]
    },
    {
     "name": "stderr",
     "output_type": "stream",
     "text": [
      "100%|██████████| 100/100 [1:57:10<00:00, 70.30s/it]"
     ]
    },
    {
     "name": "stdout",
     "output_type": "stream",
     "text": [
      "model SequentialHalvingRR_Recycle_FailureFlag_History_Agent, success rate is 1.0, std is 0.0\n"
     ]
    },
    {
     "name": "stderr",
     "output_type": "stream",
     "text": [
      "\n"
     ]
    }
   ],
   "source": [
    "# conduct experiment\n",
    "warnings.filterwarnings(\"ignore\")\n",
    "model_list = [\n",
    "    KNeighborsClassifier(n_neighbors=5),\n",
    "    KNeighborsClassifier(n_neighbors=15),\n",
    "    KNeighborsClassifier(n_neighbors=25),\n",
    "    KNeighborsClassifier(n_neighbors=35),\n",
    "    KNeighborsClassifier(n_neighbors=45),\n",
    "    KNeighborsClassifier(n_neighbors=55),\n",
    "    KNeighborsClassifier(n_neighbors=65),\n",
    "    KNeighborsClassifier(n_neighbors=75),\n",
    "    \n",
    "    LogisticRegression(penalty=\"l2\", fit_intercept=True, random_state=0, max_iter=100, C=1),\n",
    "    LogisticRegression(penalty=\"l2\", fit_intercept=True, random_state=0, max_iter=100, C=2),\n",
    "    LogisticRegression(penalty=\"l2\", fit_intercept=False, random_state=0, max_iter=100, C=1),\n",
    "    LogisticRegression(penalty=\"l2\", fit_intercept=False, random_state=0, max_iter=100, C=2),\n",
    "    LogisticRegression(penalty=\"none\", fit_intercept=True, random_state=0, max_iter=100, C=1),\n",
    "    LogisticRegression(penalty=\"none\", fit_intercept=True, random_state=0, max_iter=100, C=2),\n",
    "    LogisticRegression(penalty=\"none\", fit_intercept=False, random_state=0, max_iter=100, C=1),\n",
    "    LogisticRegression(penalty=\"none\", fit_intercept=False, random_state=0, max_iter=100, C=2),\n",
    "    \n",
    "    RandomForestClassifier(n_estimators=10, criterion=\"gini\", max_depth=5, random_state=0),\n",
    "    RandomForestClassifier(n_estimators=20, criterion=\"gini\", max_depth=5, random_state=0),\n",
    "    RandomForestClassifier(n_estimators=30, criterion=\"gini\", max_depth=5, random_state=0),\n",
    "    RandomForestClassifier(n_estimators=50, criterion=\"gini\", max_depth=5, random_state=0),\n",
    "    RandomForestClassifier(n_estimators=10, criterion=\"entropy\", max_depth=5, random_state=0),\n",
    "    RandomForestClassifier(n_estimators=20, criterion=\"entropy\", max_depth=5, random_state=0),\n",
    "    RandomForestClassifier(n_estimators=30, criterion=\"entropy\", max_depth=5, random_state=0),\n",
    "    RandomForestClassifier(n_estimators=50, criterion=\"entropy\", max_depth=5, random_state=0),\n",
    "    \n",
    "    AdaBoostClassifier(n_estimators=10, learning_rate=1.0, random_state=0),\n",
    "    AdaBoostClassifier(n_estimators=20, learning_rate=1.0, random_state=0),\n",
    "    AdaBoostClassifier(n_estimators=30, learning_rate=1.0, random_state=0),\n",
    "    AdaBoostClassifier(n_estimators=40, learning_rate=1.0, random_state=0),\n",
    "    AdaBoostClassifier(n_estimators=10, learning_rate=0.1, random_state=0),\n",
    "    AdaBoostClassifier(n_estimators=20, learning_rate=0.1, random_state=0),\n",
    "    AdaBoostClassifier(n_estimators=30, learning_rate=0.1, random_state=0),\n",
    "    AdaBoostClassifier(n_estimators=40, learning_rate=0.1, random_state=0),\n",
    "]\n",
    "Match_Index_to_Model = dict()\n",
    "for ii, model in enumerate(model_list):\n",
    "    Match_Index_to_Model[ii + 1] = model\n",
    "\n",
    "K = len(Match_Index_to_Model)\n",
    "C = np.array([60.0])\n",
    "L = len(C)\n",
    "env_class = Env_Classifier_CrossEntropy_divide3plus1\n",
    "agent_class_ = [\n",
    "    SequentialHalvingRR_Recycle_FailureFlag_History_Agent,\n",
    "]\n",
    "agent_para = dict()\n",
    "n_experiment = 100\n",
    "n_ground_truth = 100\n",
    "random_seed = 0\n",
    "disable_tqdm = True\n",
    "shuffle = True\n",
    "best_arm = 2\n",
    "\n",
    "Experiment_Classiflier(\n",
    "    model_list=model_list,\n",
    "    best_arm=best_arm,\n",
    "    dataset=dataset,\n",
    "    env_class=env_class,\n",
    "    agent_class_list=agent_class_,\n",
    "    n_experiment=n_experiment,\n",
    "    K=K,\n",
    "    C=C,\n",
    "    L=L,\n",
    "    n_ground_truth=n_ground_truth,\n",
    "    shuffle=shuffle,\n",
    ")"
   ]
  },
  {
   "cell_type": "code",
   "execution_count": null,
   "id": "82cc4cec",
   "metadata": {
    "papermill": {
     "duration": 0.021453,
     "end_time": "2023-03-27T14:39:35.235855",
     "exception": false,
     "start_time": "2023-03-27T14:39:35.214402",
     "status": "completed"
    },
    "tags": []
   },
   "outputs": [],
   "source": []
  }
 ],
 "metadata": {
  "kernelspec": {
   "display_name": "Python 3",
   "language": "python",
   "name": "python3"
  },
  "language_info": {
   "codemirror_mode": {
    "name": "ipython",
    "version": 3
   },
   "file_extension": ".py",
   "mimetype": "text/x-python",
   "name": "python",
   "nbconvert_exporter": "python",
   "pygments_lexer": "ipython3",
   "version": "3.7.12"
  },
  "papermill": {
   "default_parameters": {},
   "duration": 7042.317612,
   "end_time": "2023-03-27T14:39:35.988253",
   "environment_variables": {},
   "exception": null,
   "input_path": "__notebook__.ipynb",
   "output_path": "__notebook__.ipynb",
   "parameters": {},
   "start_time": "2023-03-27T12:42:13.670641",
   "version": "2.4.0"
  }
 },
 "nbformat": 4,
 "nbformat_minor": 5
}
