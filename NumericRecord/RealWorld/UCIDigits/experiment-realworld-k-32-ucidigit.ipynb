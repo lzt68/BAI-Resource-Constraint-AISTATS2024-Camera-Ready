{
 "cells": [
  {
   "cell_type": "code",
   "execution_count": 2,
   "id": "bb6808fc",
   "metadata": {
    "execution": {
     "iopub.execute_input": "2023-03-18T16:19:53.964870Z",
     "iopub.status.busy": "2023-03-18T16:19:53.964136Z",
     "iopub.status.idle": "2023-03-18T16:19:55.336347Z",
     "shell.execute_reply": "2023-03-18T16:19:55.335313Z"
    },
    "papermill": {
     "duration": 1.378418,
     "end_time": "2023-03-18T16:19:55.339077",
     "exception": false,
     "start_time": "2023-03-18T16:19:53.960659",
     "status": "completed"
    },
    "tags": []
   },
   "outputs": [],
   "source": [
    "import numpy as np\n",
    "import pandas as pd\n",
    "\n",
    "from agent import *\n",
    "from env import Env_Classifier_CrossEntropy_divide3plus1\n",
    "from utils import Experiment_Classiflier\n",
    "\n",
    "import os\n",
    "import warnings\n",
    "from sklearn.neighbors import KNeighborsClassifier  # https://scikit-learn.org/stable/modules/generated/sklearn.neighbors.KNeighborsClassifier.html\n",
    "from sklearn.linear_model import LogisticRegression  # https://scikit-learn.org/stable/modules/generated/sklearn.linear_model.LogisticRegression.html\n",
    "from sklearn.svm import SVC  # https://scikit-learn.org/stable/modules/generated/sklearn.svm.SVC.html\n",
    "from sklearn.ensemble import RandomForestClassifier  # https://scikit-learn.org/stable/modules/generated/sklearn.ensemble.RandomForestClassifier.html\n",
    "from sklearn.tree import DecisionTreeClassifier  # https://scikit-learn.org/stable/modules/generated/sklearn.tree.DecisionTreeClassifier.html\n",
    "from sklearn.ensemble import AdaBoostClassifier  # https://scikit-learn.org/stable/modules/generated/sklearn.ensemble.AdaBoostClassifier.html\n",
    "\n",
    "uci_hand_written_dataset = pd.read_csv(\"optdigits.tra\", header=None)\n",
    "data = uci_hand_written_dataset[uci_hand_written_dataset.columns[:-1]].values\n",
    "target = uci_hand_written_dataset[uci_hand_written_dataset.columns[-1]].values\n",
    "dataset = dict()\n",
    "dataset[\"data\"] = data\n",
    "dataset[\"target\"] = target"
   ]
  },
  {
   "cell_type": "code",
   "execution_count": 4,
   "id": "8912f17f",
   "metadata": {
    "execution": {
     "iopub.execute_input": "2023-03-18T16:19:55.362272Z",
     "iopub.status.busy": "2023-03-18T16:19:55.361858Z",
     "iopub.status.idle": "2023-03-19T00:47:18.132818Z",
     "shell.execute_reply": "2023-03-19T00:47:18.131463Z"
    },
    "papermill": {
     "duration": 30442.821338,
     "end_time": "2023-03-19T00:47:18.178949",
     "exception": false,
     "start_time": "2023-03-18T16:19:55.357611",
     "status": "completed"
    },
    "tags": []
   },
   "outputs": [
    {
     "name": "stdout",
     "output_type": "stream",
     "text": [
      "Accepted best arm is 3\n"
     ]
    },
    {
     "name": "stderr",
     "output_type": "stream",
     "text": [
      "100%|██████████| 100/100 [1:42:15<00:00, 61.35s/it]\n"
     ]
    },
    {
     "name": "stdout",
     "output_type": "stream",
     "text": [
      "model SequentialHalvingRR_Recycle_FailureFlag_Agent, success rate is 0.88, std is 0.03249615361854384\n"
     ]
    },
    {
     "name": "stderr",
     "output_type": "stream",
     "text": [
      "100%|██████████| 100/100 [1:41:46<00:00, 61.06s/it]\n"
     ]
    },
    {
     "name": "stdout",
     "output_type": "stream",
     "text": [
      "model AT_LUCB_Agent, success rate is 0.77, std is 0.042083250825001625\n"
     ]
    },
    {
     "name": "stderr",
     "output_type": "stream",
     "text": [
      "100%|██████████| 100/100 [1:40:56<00:00, 60.57s/it]\n"
     ]
    },
    {
     "name": "stdout",
     "output_type": "stream",
     "text": [
      "model UCB_Agent, success rate is 0.66, std is 0.04737087712930804\n"
     ]
    },
    {
     "name": "stderr",
     "output_type": "stream",
     "text": [
      "100%|██████████| 100/100 [1:40:44<00:00, 60.44s/it]\n"
     ]
    },
    {
     "name": "stdout",
     "output_type": "stream",
     "text": [
      "model Uniform_Agent, success rate is 0.75, std is 0.04330127018922193\n"
     ]
    },
    {
     "name": "stderr",
     "output_type": "stream",
     "text": [
      "100%|██████████| 100/100 [1:41:39<00:00, 61.00s/it]"
     ]
    },
    {
     "name": "stdout",
     "output_type": "stream",
     "text": [
      "model DoublingSequentialHalving_Agent, success rate is 0.8, std is 0.039999999999999994\n"
     ]
    },
    {
     "name": "stderr",
     "output_type": "stream",
     "text": [
      "\n"
     ]
    }
   ],
   "source": [
    "# conduct experiment\n",
    "warnings.filterwarnings(\"ignore\")\n",
    "model_list = [\n",
    "    KNeighborsClassifier(n_neighbors=5),\n",
    "    KNeighborsClassifier(n_neighbors=15),\n",
    "    KNeighborsClassifier(n_neighbors=25),\n",
    "    KNeighborsClassifier(n_neighbors=35),\n",
    "    KNeighborsClassifier(n_neighbors=45),\n",
    "    KNeighborsClassifier(n_neighbors=55),\n",
    "    KNeighborsClassifier(n_neighbors=65),\n",
    "    KNeighborsClassifier(n_neighbors=75),\n",
    "    \n",
    "    LogisticRegression(penalty=\"l2\", fit_intercept=True, random_state=0, max_iter=100, C=1),\n",
    "    LogisticRegression(penalty=\"l2\", fit_intercept=True, random_state=0, max_iter=100, C=2),\n",
    "    LogisticRegression(penalty=\"l2\", fit_intercept=False, random_state=0, max_iter=100, C=1),\n",
    "    LogisticRegression(penalty=\"l2\", fit_intercept=False, random_state=0, max_iter=100, C=2),\n",
    "    LogisticRegression(penalty=\"none\", fit_intercept=True, random_state=0, max_iter=100, C=1),\n",
    "    LogisticRegression(penalty=\"none\", fit_intercept=True, random_state=0, max_iter=100, C=2),\n",
    "    LogisticRegression(penalty=\"none\", fit_intercept=False, random_state=0, max_iter=100, C=1),\n",
    "    LogisticRegression(penalty=\"none\", fit_intercept=False, random_state=0, max_iter=100, C=2),\n",
    "    \n",
    "    RandomForestClassifier(n_estimators=10, criterion=\"gini\", max_depth=5, random_state=0),\n",
    "    RandomForestClassifier(n_estimators=20, criterion=\"gini\", max_depth=5, random_state=0),\n",
    "    RandomForestClassifier(n_estimators=30, criterion=\"gini\", max_depth=5, random_state=0),\n",
    "    RandomForestClassifier(n_estimators=50, criterion=\"gini\", max_depth=5, random_state=0),\n",
    "    RandomForestClassifier(n_estimators=10, criterion=\"entropy\", max_depth=5, random_state=0),\n",
    "    RandomForestClassifier(n_estimators=20, criterion=\"entropy\", max_depth=5, random_state=0),\n",
    "    RandomForestClassifier(n_estimators=30, criterion=\"entropy\", max_depth=5, random_state=0),\n",
    "    RandomForestClassifier(n_estimators=50, criterion=\"entropy\", max_depth=5, random_state=0),\n",
    "    \n",
    "    AdaBoostClassifier(n_estimators=10, learning_rate=1.0, random_state=0),\n",
    "    AdaBoostClassifier(n_estimators=20, learning_rate=1.0, random_state=0),\n",
    "    AdaBoostClassifier(n_estimators=30, learning_rate=1.0, random_state=0),\n",
    "    AdaBoostClassifier(n_estimators=40, learning_rate=1.0, random_state=0),\n",
    "    AdaBoostClassifier(n_estimators=10, learning_rate=0.1, random_state=0),\n",
    "    AdaBoostClassifier(n_estimators=20, learning_rate=0.1, random_state=0),\n",
    "    AdaBoostClassifier(n_estimators=30, learning_rate=0.1, random_state=0),\n",
    "    AdaBoostClassifier(n_estimators=40, learning_rate=0.1, random_state=0),\n",
    "]\n",
    "Match_Index_to_Model = dict()\n",
    "for ii, model in enumerate(model_list):\n",
    "    Match_Index_to_Model[ii + 1] = model\n",
    "\n",
    "K = len(Match_Index_to_Model)\n",
    "C = np.array([60.0])\n",
    "L = len(C)\n",
    "env_class = Env_Classifier_CrossEntropy_divide3plus1\n",
    "agent_class_ = [\n",
    "    SequentialHalvingRR_Recycle_FailureFlag_Agent, \n",
    "    AT_LUCB_Agent, \n",
    "    UCB_Agent, \n",
    "    Uniform_Agent,\n",
    "    DoublingSequentialHalving_Agent,\n",
    "]\n",
    "agent_para = dict()\n",
    "n_experiment = 100\n",
    "n_ground_truth = 50\n",
    "random_seed = 0\n",
    "disable_tqdm = True\n",
    "shuffle = True\n",
    "best_arm = 3\n",
    "\n",
    "Experiment_Classiflier(\n",
    "    model_list=model_list,\n",
    "    best_arm=best_arm,\n",
    "    dataset=dataset,\n",
    "    env_class=env_class,\n",
    "    agent_class_list=agent_class_,\n",
    "    n_experiment=n_experiment,\n",
    "    K=K,\n",
    "    C=C,\n",
    "    L=L,\n",
    "    n_ground_truth=n_ground_truth,\n",
    "    shuffle=shuffle,\n",
    ")"
   ]
  },
  {
   "cell_type": "code",
   "execution_count": null,
   "id": "4c802bcb",
   "metadata": {
    "papermill": {
     "duration": 0.034957,
     "end_time": "2023-03-19T00:47:18.249490",
     "exception": false,
     "start_time": "2023-03-19T00:47:18.214533",
     "status": "completed"
    },
    "tags": []
   },
   "outputs": [],
   "source": []
  }
 ],
 "metadata": {
  "kernelspec": {
   "display_name": "Python 3",
   "language": "python",
   "name": "python3"
  },
  "language_info": {
   "codemirror_mode": {
    "name": "ipython",
    "version": 3
   },
   "file_extension": ".py",
   "mimetype": "text/x-python",
   "name": "python",
   "nbconvert_exporter": "python",
   "pygments_lexer": "ipython3",
   "version": "3.7.12"
  },
  "papermill": {
   "default_parameters": {},
   "duration": 30454.794921,
   "end_time": "2023-03-19T00:47:19.075441",
   "environment_variables": {},
   "exception": null,
   "input_path": "__notebook__.ipynb",
   "output_path": "__notebook__.ipynb",
   "parameters": {},
   "start_time": "2023-03-18T16:19:44.280520",
   "version": "2.4.0"
  }
 },
 "nbformat": 4,
 "nbformat_minor": 5
}
