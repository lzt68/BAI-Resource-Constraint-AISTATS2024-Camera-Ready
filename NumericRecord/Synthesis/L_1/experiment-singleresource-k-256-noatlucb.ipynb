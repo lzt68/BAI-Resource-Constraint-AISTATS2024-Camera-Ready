{
 "cells": [
  {
   "cell_type": "markdown",
   "id": "53f3dc7d",
   "metadata": {
    "papermill": {
     "duration": 0.003287,
     "end_time": "2023-03-06T15:25:59.956866",
     "exception": false,
     "start_time": "2023-03-06T15:25:59.953579",
     "status": "completed"
    },
    "tags": []
   },
   "source": [
    "# For Experiment Demo"
   ]
  },
  {
   "cell_type": "code",
   "execution_count": 5,
   "id": "464abfa5",
   "metadata": {
    "code_folding": [],
    "execution": {
     "iopub.execute_input": "2023-03-06T15:25:59.965842Z",
     "iopub.status.busy": "2023-03-06T15:25:59.965348Z",
     "iopub.status.idle": "2023-03-06T15:25:59.971121Z",
     "shell.execute_reply": "2023-03-06T15:25:59.969957Z"
    },
    "papermill": {
     "duration": 0.013359,
     "end_time": "2023-03-06T15:25:59.973722",
     "exception": false,
     "start_time": "2023-03-06T15:25:59.960363",
     "status": "completed"
    },
    "tags": []
   },
   "outputs": [],
   "source": [
    "# import packages\n",
    "import numpy as np\n",
    "import pandas as pd\n",
    "\n",
    "from sklearn.model_selection import ParameterGrid\n",
    "from tqdm import tqdm\n",
    "import pandas as pd\n",
    "import os\n",
    "\n",
    "# please set up your own folder path\n",
    "from Source_MultipleResource.agent import *\n",
    "from Source_MultipleResource.env import *\n",
    "from Source_MultipleResource.utils import *\n",
    "\n",
    "# please set up your own folder path\n",
    "filefolder = \"./\""
   ]
  },
  {
   "cell_type": "code",
   "execution_count": null,
   "id": "d2df365e",
   "metadata": {
    "code_folding": [],
    "execution": {
     "iopub.execute_input": "2023-03-06T15:25:59.983317Z",
     "iopub.status.busy": "2023-03-06T15:25:59.982878Z",
     "iopub.status.idle": "2023-03-06T20:17:33.438207Z",
     "shell.execute_reply": "2023-03-06T20:17:33.437249Z"
    },
    "papermill": {
     "duration": 17493.475006,
     "end_time": "2023-03-06T20:17:33.452487",
     "exception": false,
     "start_time": "2023-03-06T15:25:59.977481",
     "status": "completed"
    },
    "tags": []
   },
   "outputs": [],
   "source": [
    "# Demo of experiment code\n",
    "\n",
    "## set up the experiment\n",
    "agent_list = [\n",
    "    Uniform_Agent,\n",
    "    UCB_Agent,\n",
    "    SequentialHalvingRR_Recycle_FailureFlag_History_Agent,\n",
    "    DoublingSequentialHalving_Agent,\n",
    "]\n",
    "\n",
    "env_list = [\n",
    "    Env_FixedConsumption,\n",
    "    Env_Uncorrelated_Reward,\n",
    "    Env_Correlated_Uniform,\n",
    "]\n",
    "\n",
    "parameter_list = [\n",
    "    One_suboptimal_MultiR_HL,\n",
    "    One_suboptimal_MultiR_HH,\n",
    "    \n",
    "    Geometry_MultiR_HL,\n",
    "    Geometry_MultiR_HH,\n",
    "    Poly_MultiR_HL,\n",
    "    Poly_MultiR_HH,\n",
    "    \n",
    "    Balanced_Trap_HalfConsumption_Fix32_MultiR_HL,\n",
    "    Balanced_Trap_HalfConsumption_Fix32_MultiR_HH,\n",
    "]\n",
    "\n",
    "K_list = [\n",
    "    256,\n",
    "]\n",
    "\n",
    "C_list = [\n",
    "    np.array([1500.]),\n",
    "]\n",
    "\n",
    "L_list = [1]\n",
    "\n",
    "dhigh_list = [0.9]\n",
    "dlow_list = [0.1]\n",
    "\n",
    "experiment_grid = ParameterGrid({\n",
    "    \"para\": parameter_list,\n",
    "    \"agent\": agent_list,\n",
    "    \"env\": env_list,\n",
    "    \"K\": K_list,\n",
    "    \"C\": C_list,\n",
    "    \"L\": L_list,\n",
    "    \"dhigh\": dhigh_list,\n",
    "    \"dlow\": dlow_list,\n",
    "})\n",
    "\n",
    "for exp_setting_id, experiment in enumerate(experiment_grid):\n",
    "    # derive the problem setting\n",
    "    K = experiment[\"K\"]\n",
    "    L = experiment[\"L\"]\n",
    "    C = experiment[\"C\"]\n",
    "\n",
    "    reward, demand = experiment[\"para\"](K=K, L=L, dhigh=experiment[\"dhigh\"], dlow=experiment[\"dlow\"])\n",
    "    r_or_p = False\n",
    "    price = np.ones(K)\n",
    "    env_class = experiment[\"env\"]\n",
    "    env_para = dict()\n",
    "    agent_class = experiment[\"agent\"]\n",
    "    agent_para = dict()\n",
    "    n_experiment = 1000\n",
    "    \n",
    "    numeric_record = pd.DataFrame(\n",
    "        columns=[\n",
    "            \"C\", \"K\", \"L\", \"n_experiment\", \"para-type\", \"env\", \"agent\", \n",
    "            \"success\", \"std_success_rate\",\n",
    "            \"reward_array\", \"demand_array\", \"mean_stop_times\",\n",
    "        ]\n",
    "    )\n",
    "    \n",
    "    # conduct the experiment\n",
    "    success_rate, std_success_rate, stop_times, _, _ = Experiment_MultiR(\n",
    "        reward=reward,\n",
    "        demand=demand,\n",
    "        price=price,\n",
    "        r_or_p=r_or_p,\n",
    "        env_class=env_class,\n",
    "        env_para=env_para,\n",
    "        agent_class=agent_class,\n",
    "        agent_para=agent_para,\n",
    "        n_experiment=n_experiment,\n",
    "        K=K,\n",
    "        C=C,\n",
    "        L=L,\n",
    "        disable_tqdm=False, # for personal laptop\n",
    "    )\n",
    "    \n",
    "    ## you can use eval(cell in numeric_record) to restore the array\n",
    "    ## save experiment record\n",
    "    filename = filefolder + agent_class.__name__ + \".csv\"\n",
    "    numeric_record.loc[0] = np.array(\n",
    "        [\n",
    "            C, K, L, n_experiment, experiment['para'].__name__, \n",
    "            env_class.__name__, agent_class.__name__,\n",
    "            success_rate, std_success_rate,\n",
    "            np.array2string(reward, threshold=11e3), np.array2string(demand, threshold=11e3),\n",
    "            # parameter_dict[experiment['para']][2],\n",
    "            stop_times\n",
    "        ],\n",
    "        dtype=object,\n",
    "    )\n",
    "    numeric_record.to_csv(filename, mode='a', index=False, header=not os.path.exists(filename))\n",
    "    print(f\"{agent_class.__name__}, {experiment['para'].__name__}, {env_class.__name__}, {K}, {C}, {exp_setting_id+1}/{len(experiment_grid)} done, success {success_rate}, std {std_success_rate}\")"
   ]
  },
  {
   "cell_type": "code",
   "execution_count": null,
   "id": "769b1b50",
   "metadata": {
    "papermill": {
     "duration": 0.011724,
     "end_time": "2023-03-06T20:17:33.513132",
     "exception": false,
     "start_time": "2023-03-06T20:17:33.501408",
     "status": "completed"
    },
    "tags": []
   },
   "outputs": [],
   "source": []
  }
 ],
 "metadata": {
  "kernelspec": {
   "display_name": "Python 3",
   "language": "python",
   "name": "python3"
  },
  "language_info": {
   "codemirror_mode": {
    "name": "ipython",
    "version": 3
   },
   "file_extension": ".py",
   "mimetype": "text/x-python",
   "name": "python",
   "nbconvert_exporter": "python",
   "pygments_lexer": "ipython3",
   "version": "3.8.8"
  },
  "papermill": {
   "default_parameters": {},
   "duration": 17506.740348,
   "end_time": "2023-03-06T20:17:34.379331",
   "environment_variables": {},
   "exception": null,
   "input_path": "__notebook__.ipynb",
   "output_path": "__notebook__.ipynb",
   "parameters": {},
   "start_time": "2023-03-06T15:25:47.638983",
   "version": "2.3.4"
  }
 },
 "nbformat": 4,
 "nbformat_minor": 5
}
